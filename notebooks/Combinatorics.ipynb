{
 "cells": [
  {
   "cell_type": "markdown",
   "id": "2ac13fc7",
   "metadata": {},
   "source": [
    "**Combinatorics** is the field of mathematics concerned with problems of selection, arrangement, and operation within a finite or discrete system.\n",
    "\n",
    "**Enumerative Combinatorics** is founded on the three principles:\n",
    "\n",
    "1. Addition Principle (Rule of Sum)\n",
    "The rule of sum is an intuitive principle stating that if there are a possible outcomes for an event (or ways to do something) and b possible outcomes for another event (or ways to do another thing), and the two events cannot both occur (or the two things can't both be done), then there are a + b total possible outcomes for the events (or total possible ways to do one of the things). \n",
    "2. Multiplication\n",
    "he rule of product is another intuitive principle stating that if there are a ways to do something and b ways to do another thing, then there are a · b ways to do both things. \n",
    "3. Inclusion Exclusion principle\n",
    "The inclusion–exclusion principle relates the size of the union of multiple sets, the size of each set, and the size of each possible intersection of the sets. The smallest example is when there are two sets: the number of elements in the union of A and B is equal to the sum of the number of elements in A and B, minus the number of elements in their intersection. \n",
    "![equation](https://wikimedia.org/api/rest_v1/media/math/render/svg/eed42db9c1b6257a17047ce738f677d974c35c0f)\n",
    "\n",
    "\n",
    "Refer: https://www.youtube.com/watch?v=ggNeQUe1Hj8"
   ]
  },
  {
   "cell_type": "markdown",
   "id": "5301b3f3",
   "metadata": {},
   "source": [
    "## Permutations\n",
    "Permutations are arrangements of objects (with or without repetition), order does matter.\n",
    "\n",
    "$k$-elements permutations of $n$ objects without repitition:\n",
    "$$P_{n}^{k} = n(n-1)(n-2).......(n-k+1)$$\n",
    "$$\\Large P_{n}^{k} = \\dfrac{n!}{(n-k)!}$$\n",
    "\n",
    "## Combinations\n",
    "Combinations are selections of objects, with or without repetition, order does not matter.\n",
    "\n",
    "$k$-elements combinations of $n$ objects without repitition:\n",
    "\n",
    "$$ \\: P_{k}^{n} = \\binom{n}{k} \\times P_{k}^{k}$$\n",
    "$$ \\therefore P_{k}^{n} = \\binom{n}{k} \\times k!$$\n",
    "$$ \\therefore n(n-1)(n-2).......(n-k+1) = \\binom{n}{k} \\times k!$$\n",
    "$$ \\therefore C_{n}^{k} = \\binom{n}{k} = \\dfrac{n(n-1)(n-2).......(n-k+1)}{k!}$$\n",
    "$$ \\Large \\binom{n}{k} = \\dfrac{n!}{k!(n-k)!}$$\n",
    "\n",
    "https://webpages.charlotte.edu/ghetyei/courses/old/S19.3166/pcv.pdf"
   ]
  },
  {
   "cell_type": "code",
   "execution_count": null,
   "id": "7cbe140c",
   "metadata": {},
   "outputs": [],
   "source": []
  }
 ],
 "metadata": {
  "kernelspec": {
   "display_name": "Python 3 (ipykernel)",
   "language": "python",
   "name": "python3"
  },
  "language_info": {
   "codemirror_mode": {
    "name": "ipython",
    "version": 3
   },
   "file_extension": ".py",
   "mimetype": "text/x-python",
   "name": "python",
   "nbconvert_exporter": "python",
   "pygments_lexer": "ipython3",
   "version": "3.10.0"
  }
 },
 "nbformat": 4,
 "nbformat_minor": 5
}
