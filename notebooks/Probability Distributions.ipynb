{
 "cells": [
  {
   "cell_type": "code",
   "execution_count": 1,
   "id": "6a35a826",
   "metadata": {},
   "outputs": [],
   "source": [
    "import numpy as np\n",
    "import pandas as pd\n",
    "import matplotlib.pyplot as plt\n",
    "import seaborn as sns\n",
    "%matplotlib inline"
   ]
  },
  {
   "cell_type": "markdown",
   "id": "41732669",
   "metadata": {},
   "source": [
    "## Random Variable\n",
    "\n",
    "If a trial or an experiment is conducted then the set of all possible outcomes is called as **sample space**.\n",
    "\n",
    "Random Variable is a real valued function defined over the sample space of an experiment. A variable whose value is determined by the outcome of an experiment associated with a sample space is called **random variable**. It is denoted by capital letter $X$ or $Y$. \n",
    "\n",
    "The outcomes are denoted by $x$.For a die throw experiment, \n",
    "$$ x = 1, x = 2, x = 3, x = 4, x = 5, x = 6$$\n",
    "\n",
    "### 1. Discrete Random Variable\n",
    "A **discrete random variable** has a finite number of values or an infinite sequence of values $(0, 1, 2, ..)$ AND the differneces between the outcomes are meaningful.\n",
    "### 2. Continuous Random Variable\n",
    "A **continous random variable** has a nearly infinite number of outcomes that cannot be easily counted  AND the differneces between the outcomes are NOT meaningful."
   ]
  },
  {
   "cell_type": "markdown",
   "id": "616ebecc",
   "metadata": {},
   "source": [
    "**Distribution** : The possible values a variable can take and how frequently they occur.\n",
    "\n",
    "The probability of random variable X having value x is often represented as $P(X=x)$.\n",
    "\n",
    "Lets take example of event of throwing a dice twice. Take random variable as sum of the results of each throw and calculate the probability."
   ]
  },
  {
   "cell_type": "code",
   "execution_count": 2,
   "id": "e1762a7f",
   "metadata": {},
   "outputs": [
    {
     "data": {
      "text/html": [
       "<div>\n",
       "<style scoped>\n",
       "    .dataframe tbody tr th:only-of-type {\n",
       "        vertical-align: middle;\n",
       "    }\n",
       "\n",
       "    .dataframe tbody tr th {\n",
       "        vertical-align: top;\n",
       "    }\n",
       "\n",
       "    .dataframe thead th {\n",
       "        text-align: right;\n",
       "    }\n",
       "</style>\n",
       "<table border=\"1\" class=\"dataframe\">\n",
       "  <thead>\n",
       "    <tr style=\"text-align: right;\">\n",
       "      <th></th>\n",
       "      <th>Sum</th>\n",
       "      <th>Frequency</th>\n",
       "    </tr>\n",
       "  </thead>\n",
       "  <tbody>\n",
       "    <tr>\n",
       "      <th>0</th>\n",
       "      <td>2</td>\n",
       "      <td>1</td>\n",
       "    </tr>\n",
       "    <tr>\n",
       "      <th>1</th>\n",
       "      <td>3</td>\n",
       "      <td>2</td>\n",
       "    </tr>\n",
       "    <tr>\n",
       "      <th>2</th>\n",
       "      <td>4</td>\n",
       "      <td>3</td>\n",
       "    </tr>\n",
       "    <tr>\n",
       "      <th>3</th>\n",
       "      <td>5</td>\n",
       "      <td>4</td>\n",
       "    </tr>\n",
       "    <tr>\n",
       "      <th>4</th>\n",
       "      <td>6</td>\n",
       "      <td>5</td>\n",
       "    </tr>\n",
       "    <tr>\n",
       "      <th>5</th>\n",
       "      <td>7</td>\n",
       "      <td>6</td>\n",
       "    </tr>\n",
       "    <tr>\n",
       "      <th>6</th>\n",
       "      <td>8</td>\n",
       "      <td>5</td>\n",
       "    </tr>\n",
       "    <tr>\n",
       "      <th>7</th>\n",
       "      <td>9</td>\n",
       "      <td>4</td>\n",
       "    </tr>\n",
       "    <tr>\n",
       "      <th>8</th>\n",
       "      <td>10</td>\n",
       "      <td>3</td>\n",
       "    </tr>\n",
       "    <tr>\n",
       "      <th>9</th>\n",
       "      <td>11</td>\n",
       "      <td>2</td>\n",
       "    </tr>\n",
       "    <tr>\n",
       "      <th>10</th>\n",
       "      <td>12</td>\n",
       "      <td>1</td>\n",
       "    </tr>\n",
       "  </tbody>\n",
       "</table>\n",
       "</div>"
      ],
      "text/plain": [
       "    Sum  Frequency\n",
       "0     2          1\n",
       "1     3          2\n",
       "2     4          3\n",
       "3     5          4\n",
       "4     6          5\n",
       "5     7          6\n",
       "6     8          5\n",
       "7     9          4\n",
       "8    10          3\n",
       "9    11          2\n",
       "10   12          1"
      ]
     },
     "execution_count": 2,
     "metadata": {},
     "output_type": "execute_result"
    }
   ],
   "source": [
    "sums = list(range(2, 13))\n",
    "freq = list(range(1,7)) + list(range(5, 0, -1))\n",
    "df = pd.DataFrame({'Sum': sums, 'Frequency': freq})\n",
    "df"
   ]
  },
  {
   "cell_type": "code",
   "execution_count": 3,
   "id": "7d41ed6b",
   "metadata": {},
   "outputs": [
    {
     "data": {
      "text/html": [
       "<div>\n",
       "<style scoped>\n",
       "    .dataframe tbody tr th:only-of-type {\n",
       "        vertical-align: middle;\n",
       "    }\n",
       "\n",
       "    .dataframe tbody tr th {\n",
       "        vertical-align: top;\n",
       "    }\n",
       "\n",
       "    .dataframe thead th {\n",
       "        text-align: right;\n",
       "    }\n",
       "</style>\n",
       "<table border=\"1\" class=\"dataframe\">\n",
       "  <thead>\n",
       "    <tr style=\"text-align: right;\">\n",
       "      <th></th>\n",
       "      <th>x</th>\n",
       "      <th>P(X=x)</th>\n",
       "    </tr>\n",
       "  </thead>\n",
       "  <tbody>\n",
       "    <tr>\n",
       "      <th>0</th>\n",
       "      <td>2</td>\n",
       "      <td>0.027778</td>\n",
       "    </tr>\n",
       "    <tr>\n",
       "      <th>1</th>\n",
       "      <td>3</td>\n",
       "      <td>0.055556</td>\n",
       "    </tr>\n",
       "    <tr>\n",
       "      <th>2</th>\n",
       "      <td>4</td>\n",
       "      <td>0.083333</td>\n",
       "    </tr>\n",
       "    <tr>\n",
       "      <th>3</th>\n",
       "      <td>5</td>\n",
       "      <td>0.111111</td>\n",
       "    </tr>\n",
       "    <tr>\n",
       "      <th>4</th>\n",
       "      <td>6</td>\n",
       "      <td>0.138889</td>\n",
       "    </tr>\n",
       "    <tr>\n",
       "      <th>5</th>\n",
       "      <td>7</td>\n",
       "      <td>0.166667</td>\n",
       "    </tr>\n",
       "    <tr>\n",
       "      <th>6</th>\n",
       "      <td>8</td>\n",
       "      <td>0.138889</td>\n",
       "    </tr>\n",
       "    <tr>\n",
       "      <th>7</th>\n",
       "      <td>9</td>\n",
       "      <td>0.111111</td>\n",
       "    </tr>\n",
       "    <tr>\n",
       "      <th>8</th>\n",
       "      <td>10</td>\n",
       "      <td>0.083333</td>\n",
       "    </tr>\n",
       "    <tr>\n",
       "      <th>9</th>\n",
       "      <td>11</td>\n",
       "      <td>0.055556</td>\n",
       "    </tr>\n",
       "    <tr>\n",
       "      <th>10</th>\n",
       "      <td>12</td>\n",
       "      <td>0.027778</td>\n",
       "    </tr>\n",
       "  </tbody>\n",
       "</table>\n",
       "</div>"
      ],
      "text/plain": [
       "     x    P(X=x)\n",
       "0    2  0.027778\n",
       "1    3  0.055556\n",
       "2    4  0.083333\n",
       "3    5  0.111111\n",
       "4    6  0.138889\n",
       "5    7  0.166667\n",
       "6    8  0.138889\n",
       "7    9  0.111111\n",
       "8   10  0.083333\n",
       "9   11  0.055556\n",
       "10  12  0.027778"
      ]
     },
     "execution_count": 3,
     "metadata": {},
     "output_type": "execute_result"
    }
   ],
   "source": [
    "df.rename(columns={\"Sum\": \"x\",\"Frequency\": \"P(X=x)\"}, inplace=True)\n",
    "df[\"P(X=x)\"] = df[\"P(X=x)\"].apply(lambda x: x / 36)\n",
    "df"
   ]
  },
  {
   "cell_type": "markdown",
   "id": "14593b1f",
   "metadata": {},
   "source": [
    "This is a **probability distribution** for our discrete random variable. Generally distributions are defined using two characteristics **mean** and **variance**."
   ]
  },
  {
   "cell_type": "code",
   "execution_count": 4,
   "id": "7815faaf",
   "metadata": {},
   "outputs": [
    {
     "data": {
      "image/png": "[encoded data removed]",
      "text/plain": [
       "<Figure size 1000x500 with 1 Axes>"
      ]
     },
     "metadata": {},
     "output_type": "display_data"
    }
   ],
   "source": [
    "plt.figure(figsize=(10, 5))\n",
    "pmf = sns.histplot(data=df, x=\"x\", weights=\"P(X=x)\", discrete=True)\n",
    "pmf.set_xticks(sums)\n",
    "plt.show()"
   ]
  },
  {
   "cell_type": "code",
   "execution_count": 5,
   "id": "b3c5269a",
   "metadata": {
    "scrolled": false
   },
   "outputs": [
    {
     "data": {
      "image/png": "[encoded data removed]",
      "text/plain": [
       "<Figure size 1000x500 with 1 Axes>"
      ]
     },
     "metadata": {},
     "output_type": "display_data"
    }
   ],
   "source": [
    "plt.figure(figsize=(10, 5))\n",
    "cdf = sns.histplot(data=df, x=\"x\", weights=\"P(X=x)\", discrete=True, cumulative=True)\n",
    "cdf.set_xticks(sums)\n",
    "plt.show()"
   ]
  },
  {
   "cell_type": "markdown",
   "id": "4e8295b6",
   "metadata": {},
   "source": [
    "## Mathematical Expectation \n",
    "Mathematical expectation is the average expected outcome i.e. mean of a random variable.\n",
    "\n",
    "If X is a random variable with all possible values $x_{1}, x_{2}, x_{3} ...., x_{n}$ and probability functions(probabilities)$ p(x_{1}), p(x_{2}), ..., p(x_{n})$, then the mathematical expectation of X is denoted by $E(X)$ and given by,\n",
    "$$ E(X) = \\sum_{i=1}^{n} x_{i} \\times P(x_{i}) $$\n",
    "\n",
    "**E(X) is the arithmatic mean $\\mu$ of random variable X:**\n",
    "Arithmatic mean in frequency distribution,\n",
    "$$ \\bar x = \\dfrac{\\sum f_{i} x_{i}}{\\sum f} = \\dfrac{1}{\\sum f}(f_{1} x_{1} + f_{2} x_{2} + ..... + f_{n} x_{n}) $$\n",
    "$$ \\therefore \\bar x = \\sum_{i=1}^{n} P_{i} x_{i} = E(x) = \\mu $$\n",
    "\n",
    "**Variance $Var(X) = \\sigma^{2}$ of a random variable X:**\n",
    "$$ Var(X) = \\mu^2 = E[X - E(X)]^2 $$\n",
    "$$ \\therefore \\sigma^2 = E(x - \\mu)^2 = \\sum_{i=1}^{n}(x_i - \\mu)^2 P_i $$\n",
    "$$ \\therefore \\sigma^2 = \\sum_{i=1}^{n}x_i^2P_i - 2\\mu\\sum_{i=1}^{n}x_iP_i + \\mu^2\\sum_{i=1}^{n}P_i $$\n",
    "$$ \\therefore \\sigma^2 = E(x^2) - 2\\mu^2+ \\mu^2 = E(x^2) - \\mu^2 $$\n",
    "$$ \\sigma^2 = E(x^2) - [E(x)]^2 $$"
   ]
  },
  {
   "cell_type": "code",
   "execution_count": 6,
   "id": "35f8b7ce",
   "metadata": {},
   "outputs": [],
   "source": [
    "from scipy import stats"
   ]
  },
  {
   "cell_type": "markdown",
   "id": "47d791e0",
   "metadata": {},
   "source": [
    "# Probability (Statistical) Distributions\n",
    "\n",
    "The distribution provides a parameterized mathematical function that can be used to calculate the probability for any individual observation from the sample space. This distribution describes the grouping or the density of the observations, called the probability density function. We can also calculate the likelihood of an observation having a value equal to or lesser than a given value. A summary of these relationships between observations is called a cumulative density function.\n",
    "\n",
    "> A **distribution** is simply a collection of data, or scores, on a variable. Usually, these scores are arranged in order from smallest to largest and then they can be presented graphically.\n",
    "\n",
    "### Density Functions\n",
    "Density functions are functions that describe how the proportion of data or **likelihood** of the proportion of observations change over the range of the distribution.\n",
    "\n",
    "Two types of density functions are probability density functions and cumulative density functions.\n",
    "- **Probability Density function**: calculates the probability of observing a given value.\n",
    "- **Cumulative Density function**: calculates the probability of an observation equal or less than a value.\n",
    "\n",
    "[Probability VS Likelihood](https://youtu.be/pYxNSUDSFH4)\n",
    "\n",
    "### Notation\n",
    "\n",
    "X   ~  N ($\\mu$, $\\sigma^2$) <br>\n",
    "variable, tilde, type, characteristics"
   ]
  },
  {
   "cell_type": "markdown",
   "id": "7e447064",
   "metadata": {},
   "source": [
    "In probability theory, **a probability density function**, or density of a continuous random variable, is a function whose value at any given sample in the sample space can be interpreted as providing a relative likelihood that the value of the random variable would be equal to that sample.\n",
    "\n",
    "In probability and statistics, a **probability mass function** is a function that gives the probability that a discrete random variable is exactly equal to some value. Sometimes it is also known as the discrete density function. "
   ]
  },
  {
   "cell_type": "markdown",
   "id": "10c2ebf9",
   "metadata": {},
   "source": [
    "## Discrete Distributions"
   ]
  },
  {
   "cell_type": "markdown",
   "id": "8ef63912",
   "metadata": {},
   "source": [
    "- ### Uniform Discrete Distribution\n",
    "https://en.wikipedia.org/wiki/Discrete_uniform_distribution\n",
    "\n",
    "    $X \\sim U(a,b)$ : where $a$ and $b$ where a and b represent the starting and ending values.\n",
    "    \n",
    "    Similar to a discrete uniform distribution, there is a continuous uniform distribution for continuous variables.\n",
    "\n",
    "    **In uniform distribution, all outcomes have equal probability.**<br>\n",
    "    eg. Rolling a dice\n",
    "    \n",
    "    The probability mass function of a uniform discrete distribution is\n",
    "    $$ f(x) = \\dfrac{1}{high - low} $$\n",
    "    for $x \\in \\{low,......., high - 1\\}$\n",
    "    \n",
    "    The drawbacks of this distribution are that it often provides us with no relevant information. Using our example of a rolling die, we get the expected value of 3.5, which gives us no accurate intuition since there is no such thing as half a number on a dice. Since all values are equally likely, it gives us no real predictive power.\n",
    "    \n",
    "    **For a dice roll,**"
   ]
  },
  {
   "cell_type": "code",
   "execution_count": 7,
   "id": "5f7ccbee",
   "metadata": {},
   "outputs": [
    {
     "data": {
      "image/png": "[encoded data removed]",
      "text/plain": [
       "<Figure size 640x480 with 1 Axes>"
      ]
     },
     "metadata": {},
     "output_type": "display_data"
    }
   ],
   "source": [
    "low, high = 1, 7\n",
    "x = np.arange(low, high) #np.arange(stats.randint.ppf(0.01, low, high), stats.randint.ppf(0.99, low, high))\n",
    "pmf = stats.randint.pmf(x, low, high)\n",
    "plot = sns.histplot(x=x, weights=pmf, discrete=True)\n",
    "plot.set_ylim(0, 0.25)\n",
    "plot.set_xticks(x)\n",
    "plt.show()"
   ]
  },
  {
   "cell_type": "markdown",
   "id": "3bdfa7e5",
   "metadata": {},
   "source": [
    "- ### Bernoulli Distribution\n",
    "https://en.wikipedia.org/wiki/Bernoulli_distribution\n",
    "\n",
    "$ X \\sim Bern(p) $ : Variable X follows a bernoulli distribution where probability of success is $p$\n",
    "\n",
    "Any event with a single trial and only two possible outcomes follow a Bernoulli distribution. Flipping a coin or choosing between True and False in a quiz are examples of a Bernoulli distribution. \n",
    "Conventionally, we assign $p$ to outcome 1\n",
    "\n",
    "The probability mass function for Bernoulli Distribution is:\n",
    "$$\n",
    "f(x) = \n",
    "\\begin{cases}\n",
    "    1-p &  \\text{if k = 0}\\\\\n",
    "    p &  \\text{if k = 1}\n",
    "\\end{cases}\n",
    "$$\n",
    "\n",
    "**Expected Value**:\n",
    "$$ E(X) = \\mu = 1 \\cdot p + 0 \\cdot (1-p) $$\n",
    "$$ E(X) = p $$\n",
    "**Variance**: \n",
    "$$ \\sigma^2 = E(x^2) - [E(x)]^2 = 1^2 \\cdot p + 0^2 \\cdot (1-p) - p^2 $$\n",
    "$$ \\sigma^2 = p(1-p) $$"
   ]
  },
  {
   "cell_type": "code",
   "execution_count": 8,
   "id": "97d15e1d",
   "metadata": {},
   "outputs": [
    {
     "data": {
      "image/png": "[encoded data removed]",
      "text/plain": [
       "<Figure size 640x480 with 1 Axes>"
      ]
     },
     "metadata": {},
     "output_type": "display_data"
    }
   ],
   "source": [
    "p = 0.6\n",
    "x = [0,1] #np.arange(stats.bernoulli.ppf(0.01, p),stats.bernoulli.ppf(0.99, p))\n",
    "pmf = stats.bernoulli.pmf(x, p)\n",
    "plot = sns.histplot(x=x, weights=pmf, discrete=True)\n",
    "plot.set_ylim(0, 0.7)\n",
    "plot.set_xticks(x)\n",
    "plt.show()"
   ]
  },
  {
   "cell_type": "code",
   "execution_count": 9,
   "id": "281f732e",
   "metadata": {},
   "outputs": [
    {
     "data": {
      "text/plain": [
       "(0.6, 0.24)"
      ]
     },
     "execution_count": 9,
     "metadata": {},
     "output_type": "execute_result"
    }
   ],
   "source": [
    "mean, var, skew, kurt = stats.bernoulli.stats(p, moments='mvsk')\n",
    "mean, var"
   ]
  },
  {
   "cell_type": "markdown",
   "id": "a057296d",
   "metadata": {},
   "source": [
    "- ### Binomial Distribution\n",
    "https://en.wikipedia.org/wiki/Binomial_distribution\n",
    "\n",
    "$ X \\sim B(n, p) $ : Variable X follows a binomial distribution with $n$ trials probability of success is $p$\n",
    "\n",
    "> $ Bern(p) = B(1, p) $\n",
    "\n",
    "The Binomial Distribution can be thought of as the sum of outcomes of an event following a Bernoulli distribution. Therefore, Binomial Distribution is used in binary outcome events, and the probability of success and failure is the same in all successive trials. An example of a binomial event would be flipping a coin multiple times to count the number of heads and tails.\n",
    "$$ p(desired \\: outcome) = p $$\n",
    "\n",
    "The probability mass function for Binomial Distribution is:\n",
    "$$\n",
    "f(x) = \\binom{n}{x} p^x (1-p)^{n-x}\n",
    "$$\n",
    "\n",
    "**Expected Value**:\n",
    "$$ E(X) = np $$\n",
    "**Variance**: \n",
    "$$ \\sigma^2 = np(1-p) $$"
   ]
  },
  {
   "cell_type": "code",
   "execution_count": 10,
   "id": "7eba7573",
   "metadata": {},
   "outputs": [
    {
     "data": {
      "image/png": "[encoded data removed]",
      "text/plain": [
       "<Figure size 640x480 with 4 Axes>"
      ]
     },
     "metadata": {},
     "output_type": "display_data"
    }
   ],
   "source": [
    "# coin thrown 10 times\n",
    "n = 10\n",
    "p = 0.5\n",
    "x = list(range(0,11)) #np.arange(stats.binom.ppf(0.01, n, p),stats.binom.ppf(0.99,n, p))\n",
    "pmf = stats.binom.pmf(x, n, p)\n",
    "cdf = stats.binom.cdf(x, n, p)\n",
    "\n",
    "fig, axs = plt.subplots(2, 2, sharex='all', sharey='row')\n",
    "axs[0][0].set_ylabel(\"PMF\")\n",
    "axs[1][0].set_ylabel(\"CDF\")\n",
    "plot = sns.histplot(x=x, weights=pmf, discrete=True, ax=axs[0, 0])\n",
    "plot.set_xticks(x)\n",
    "sns.scatterplot(x=x, y=pmf, ax=axs[0,1])\n",
    "sns.histplot(x=x, weights=cdf, discrete=True, ax=axs[1, 0])\n",
    "sns.scatterplot(x=x, y=cdf, ax=axs[1,1])\n",
    "plt.show()"
   ]
  },
  {
   "cell_type": "code",
   "execution_count": 11,
   "id": "b6969d2b",
   "metadata": {},
   "outputs": [
    {
     "data": {
      "text/plain": [
       "(5.0, 2.5)"
      ]
     },
     "execution_count": 11,
     "metadata": {},
     "output_type": "execute_result"
    }
   ],
   "source": [
    "mean, var, skew, kurt = stats.binom.stats(n, p, moments='mvsk')\n",
    "mean, var"
   ]
  },
  {
   "cell_type": "markdown",
   "id": "354421d3",
   "metadata": {},
   "source": [
    "- ### HyperGeometric Distribution\n",
    "https://en.wikipedia.org/wiki/Hypergeometric_distribution\n",
    "\n",
    "$ X \\sim H(N, M, n) $\n",
    "\n",
    "Hypergeometric distribution is a discrete probability distribution that describes the probability of **x successes** (random draws for which the object drawn has a specified feature) in **n draws**, without replacement, from a **finite population of size N** that contains exactly **M objects with that feature**, wherein each draw is either a success or a failure.\n",
    "\n",
    "The probability mass function for Hypergeometric Distribution is:\n",
    "$$\n",
    "f(x) = \\dfrac{\\binom{M}{x}\\binom{N-M}{n-x}}{\\binom{N}{n}}\n",
    "$$\n",
    "\n",
    "**Expected Value**:\n",
    "$$ E(X) = n\\dfrac{M}{N} $$\n",
    "**Variance**: \n",
    "$$ \\sigma^2 = n\\dfrac{M}{N}\\dfrac{N-M}{N}\\dfrac{N-n}{N-1} $$"
   ]
  },
  {
   "cell_type": "code",
   "execution_count": 12,
   "id": "86399a16",
   "metadata": {},
   "outputs": [
    {
     "data": {
      "image/png": "[encoded data removed]",
      "text/plain": [
       "<Figure size 640x480 with 4 Axes>"
      ]
     },
     "metadata": {},
     "output_type": "display_data"
    }
   ],
   "source": [
    "# drawing a red ball from 50 balls out of which 10 are red without replacement (ball drawn = 9)\n",
    "N = 50\n",
    "M = 10\n",
    "n = 9\n",
    "x = list(range(0, 10))\n",
    "pmf = stats.hypergeom.pmf(x, N, M, n)\n",
    "cdf = stats.hypergeom.cdf(x, N, M, n)\n",
    "\n",
    "fig, axs = plt.subplots(2, 2, sharex='all', sharey='row')\n",
    "axs[0][0].set_ylabel(\"PMF\")\n",
    "axs[1][0].set_ylabel(\"CDF\")\n",
    "plot = sns.histplot(x=x, weights=pmf, discrete=True, ax=axs[0, 0], kde=True)\n",
    "plot.set_xticks(x)\n",
    "sns.scatterplot(x=x, y=pmf, ax=axs[0,1])\n",
    "sns.histplot(x=x, weights=cdf, discrete=True, ax=axs[1, 0])\n",
    "sns.scatterplot(x=x, y=cdf, ax=axs[1,1])\n",
    "plt.show()"
   ]
  },
  {
   "cell_type": "code",
   "execution_count": 13,
   "id": "26753fde",
   "metadata": {},
   "outputs": [
    {
     "data": {
      "text/plain": [
       "(1.8, 1.2048979591836735)"
      ]
     },
     "execution_count": 13,
     "metadata": {},
     "output_type": "execute_result"
    }
   ],
   "source": [
    "mean, var = stats.hypergeom.stats(N, M, n, moments='mv')\n",
    "mean, var"
   ]
  },
  {
   "cell_type": "markdown",
   "id": "c1984cc3",
   "metadata": {},
   "source": [
    "- ### Poisson Distribution\n",
    "https://en.wikipedia.org/wiki/Poisson_distribution\n",
    "\n",
    "$ X \\sim P_0(\\lambda) $ : Variable X follows a Poisson distribution with $\\lambda$\n",
    "\n",
    "Poisson distribution deals with the frequency with which an event occurs within a specific interval. Instead of the probability of an event, Poisson distribution requires knowing how often it happens in a particular period or distance. For example, a cricket chirps two times in 7 seconds on average. We can use the Poisson distribution to determine the likelihood of it chirping five times in 15 seconds.\n",
    "\n",
    "The probability mass function for Poission Distribution is:\n",
    "$$\n",
    "f(x) = e^{-\\lambda}\\dfrac{\\lambda^x}{x!}\n",
    "$$\n",
    "\n",
    "**Expected Value**:\n",
    "$$ E(X) = \\lambda $$\n",
    "**Variance**: \n",
    "$$ \\sigma^2 = \\lambda $$"
   ]
  },
  {
   "cell_type": "code",
   "execution_count": 14,
   "id": "934e9db7",
   "metadata": {},
   "outputs": [
    {
     "data": {
      "image/png": "[encoded data removed]",
      "text/plain": [
       "<Figure size 640x480 with 4 Axes>"
      ]
     },
     "metadata": {},
     "output_type": "display_data"
    }
   ],
   "source": [
    "lambd = 3\n",
    "x = np.arange(0, 13)\n",
    "pmf = stats.poisson.pmf(x, lambd)\n",
    "cdf = stats.poisson.cdf(x, lambd)\n",
    "\n",
    "fig, axs = plt.subplots(2, 2, sharex='all', sharey='row')\n",
    "axs[0][0].set_ylabel(\"PMF\")\n",
    "axs[1][0].set_ylabel(\"CDF\")\n",
    "plot = sns.histplot(x=x, weights=pmf, discrete=True, ax=axs[0, 0], kde=True)\n",
    "plot.set_xticks(x)\n",
    "sns.scatterplot(x=x, y=pmf, ax=axs[0,1])\n",
    "sns.histplot(x=x, weights=cdf, discrete=True, ax=axs[1, 0])\n",
    "sns.scatterplot(x=x, y=cdf, ax=axs[1,1])\n",
    "plt.show()"
   ]
  },
  {
   "cell_type": "code",
   "execution_count": 15,
   "id": "eace7491",
   "metadata": {},
   "outputs": [
    {
     "data": {
      "text/plain": [
       "(3.0, 3.0)"
      ]
     },
     "execution_count": 15,
     "metadata": {},
     "output_type": "execute_result"
    }
   ],
   "source": [
    "mean, var = stats.poisson.stats(lambd, moments='mv')\n",
    "mean, var"
   ]
  },
  {
   "cell_type": "markdown",
   "id": "1c52f391",
   "metadata": {},
   "source": [
    "## Continuous Distributions"
   ]
  },
  {
   "cell_type": "markdown",
   "id": "f1f68cdf",
   "metadata": {},
   "source": [
    "- Gaussian / Normal Distribution\n",
    "- Standard Normal Distribution\n",
    "- Students' t distribution\n",
    "- Chi Sqaured distribution\n",
    "- exponential distribution\n",
    "- paretto (power)\n",
    "- log normal\n",
    "- logistic"
   ]
  },
  {
   "cell_type": "markdown",
   "id": "4268867c",
   "metadata": {},
   "source": []
  }
 ],
 "metadata": {
  "kernelspec": {
   "display_name": "Python 3 (ipykernel)",
   "language": "python",
   "name": "python3"
  },
  "language_info": {
   "codemirror_mode": {
    "name": "ipython",
    "version": 3
   },
   "file_extension": ".py",
   "mimetype": "text/x-python",
   "name": "python",
   "nbconvert_exporter": "python",
   "pygments_lexer": "ipython3",
   "version": "3.10.0"
  }
 },
 "nbformat": 4,
 "nbformat_minor": 5
}
