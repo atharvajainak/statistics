{
 "cells": [
  {
   "cell_type": "code",
   "execution_count": 1,
   "id": "2f2a9989",
   "metadata": {},
   "outputs": [],
   "source": [
    "import numpy as np\n",
    "import pandas as pd"
   ]
  },
  {
   "cell_type": "code",
   "execution_count": 2,
   "id": "e1117f58",
   "metadata": {},
   "outputs": [],
   "source": [
    "df = pd.read_csv('https://raw.githubusercontent.com/mwaskom/seaborn-data/master/iris.csv')"
   ]
  },
  {
   "cell_type": "code",
   "execution_count": 3,
   "id": "729ea355",
   "metadata": {},
   "outputs": [
    {
     "data": {
      "text/html": [
       "<div>\n",
       "<style scoped>\n",
       "    .dataframe tbody tr th:only-of-type {\n",
       "        vertical-align: middle;\n",
       "    }\n",
       "\n",
       "    .dataframe tbody tr th {\n",
       "        vertical-align: top;\n",
       "    }\n",
       "\n",
       "    .dataframe thead th {\n",
       "        text-align: right;\n",
       "    }\n",
       "</style>\n",
       "<table border=\"1\" class=\"dataframe\">\n",
       "  <thead>\n",
       "    <tr style=\"text-align: right;\">\n",
       "      <th></th>\n",
       "      <th>sepal_length</th>\n",
       "      <th>sepal_width</th>\n",
       "      <th>petal_length</th>\n",
       "      <th>petal_width</th>\n",
       "      <th>species</th>\n",
       "    </tr>\n",
       "  </thead>\n",
       "  <tbody>\n",
       "    <tr>\n",
       "      <th>73</th>\n",
       "      <td>6.1</td>\n",
       "      <td>2.8</td>\n",
       "      <td>4.7</td>\n",
       "      <td>1.2</td>\n",
       "      <td>versicolor</td>\n",
       "    </tr>\n",
       "    <tr>\n",
       "      <th>13</th>\n",
       "      <td>4.3</td>\n",
       "      <td>3.0</td>\n",
       "      <td>1.1</td>\n",
       "      <td>0.1</td>\n",
       "      <td>setosa</td>\n",
       "    </tr>\n",
       "    <tr>\n",
       "      <th>113</th>\n",
       "      <td>5.7</td>\n",
       "      <td>2.5</td>\n",
       "      <td>5.0</td>\n",
       "      <td>2.0</td>\n",
       "      <td>virginica</td>\n",
       "    </tr>\n",
       "    <tr>\n",
       "      <th>65</th>\n",
       "      <td>6.7</td>\n",
       "      <td>3.1</td>\n",
       "      <td>4.4</td>\n",
       "      <td>1.4</td>\n",
       "      <td>versicolor</td>\n",
       "    </tr>\n",
       "    <tr>\n",
       "      <th>62</th>\n",
       "      <td>6.0</td>\n",
       "      <td>2.2</td>\n",
       "      <td>4.0</td>\n",
       "      <td>1.0</td>\n",
       "      <td>versicolor</td>\n",
       "    </tr>\n",
       "    <tr>\n",
       "      <th>133</th>\n",
       "      <td>6.3</td>\n",
       "      <td>2.8</td>\n",
       "      <td>5.1</td>\n",
       "      <td>1.5</td>\n",
       "      <td>virginica</td>\n",
       "    </tr>\n",
       "    <tr>\n",
       "      <th>26</th>\n",
       "      <td>5.0</td>\n",
       "      <td>3.4</td>\n",
       "      <td>1.6</td>\n",
       "      <td>0.4</td>\n",
       "      <td>setosa</td>\n",
       "    </tr>\n",
       "    <tr>\n",
       "      <th>6</th>\n",
       "      <td>4.6</td>\n",
       "      <td>3.4</td>\n",
       "      <td>1.4</td>\n",
       "      <td>0.3</td>\n",
       "      <td>setosa</td>\n",
       "    </tr>\n",
       "    <tr>\n",
       "      <th>0</th>\n",
       "      <td>5.1</td>\n",
       "      <td>3.5</td>\n",
       "      <td>1.4</td>\n",
       "      <td>0.2</td>\n",
       "      <td>setosa</td>\n",
       "    </tr>\n",
       "    <tr>\n",
       "      <th>34</th>\n",
       "      <td>4.9</td>\n",
       "      <td>3.1</td>\n",
       "      <td>1.5</td>\n",
       "      <td>0.2</td>\n",
       "      <td>setosa</td>\n",
       "    </tr>\n",
       "  </tbody>\n",
       "</table>\n",
       "</div>"
      ],
      "text/plain": [
       "     sepal_length  sepal_width  petal_length  petal_width     species\n",
       "73            6.1          2.8           4.7          1.2  versicolor\n",
       "13            4.3          3.0           1.1          0.1      setosa\n",
       "113           5.7          2.5           5.0          2.0   virginica\n",
       "65            6.7          3.1           4.4          1.4  versicolor\n",
       "62            6.0          2.2           4.0          1.0  versicolor\n",
       "133           6.3          2.8           5.1          1.5   virginica\n",
       "26            5.0          3.4           1.6          0.4      setosa\n",
       "6             4.6          3.4           1.4          0.3      setosa\n",
       "0             5.1          3.5           1.4          0.2      setosa\n",
       "34            4.9          3.1           1.5          0.2      setosa"
      ]
     },
     "execution_count": 3,
     "metadata": {},
     "output_type": "execute_result"
    }
   ],
   "source": [
    "df.sample(10)"
   ]
  },
  {
   "cell_type": "markdown",
   "id": "a2478e2c",
   "metadata": {},
   "source": [
    "#### Frequency Table example"
   ]
  },
  {
   "cell_type": "code",
   "execution_count": 4,
   "id": "8981e792",
   "metadata": {},
   "outputs": [
    {
     "data": {
      "text/html": [
       "<div>\n",
       "<style scoped>\n",
       "    .dataframe tbody tr th:only-of-type {\n",
       "        vertical-align: middle;\n",
       "    }\n",
       "\n",
       "    .dataframe tbody tr th {\n",
       "        vertical-align: top;\n",
       "    }\n",
       "\n",
       "    .dataframe thead th {\n",
       "        text-align: right;\n",
       "    }\n",
       "</style>\n",
       "<table border=\"1\" class=\"dataframe\">\n",
       "  <thead>\n",
       "    <tr style=\"text-align: right;\">\n",
       "      <th></th>\n",
       "      <th>value</th>\n",
       "      <th>frequency</th>\n",
       "    </tr>\n",
       "  </thead>\n",
       "  <tbody>\n",
       "    <tr>\n",
       "      <th>0</th>\n",
       "      <td>5.0</td>\n",
       "      <td>6</td>\n",
       "    </tr>\n",
       "    <tr>\n",
       "      <th>1</th>\n",
       "      <td>6.7</td>\n",
       "      <td>6</td>\n",
       "    </tr>\n",
       "    <tr>\n",
       "      <th>2</th>\n",
       "      <td>5.7</td>\n",
       "      <td>5</td>\n",
       "    </tr>\n",
       "    <tr>\n",
       "      <th>3</th>\n",
       "      <td>5.8</td>\n",
       "      <td>4</td>\n",
       "    </tr>\n",
       "    <tr>\n",
       "      <th>4</th>\n",
       "      <td>6.0</td>\n",
       "      <td>4</td>\n",
       "    </tr>\n",
       "    <tr>\n",
       "      <th>5</th>\n",
       "      <td>6.4</td>\n",
       "      <td>4</td>\n",
       "    </tr>\n",
       "    <tr>\n",
       "      <th>6</th>\n",
       "      <td>4.8</td>\n",
       "      <td>4</td>\n",
       "    </tr>\n",
       "    <tr>\n",
       "      <th>7</th>\n",
       "      <td>6.5</td>\n",
       "      <td>4</td>\n",
       "    </tr>\n",
       "  </tbody>\n",
       "</table>\n",
       "</div>"
      ],
      "text/plain": [
       "   value  frequency\n",
       "0    5.0          6\n",
       "1    6.7          6\n",
       "2    5.7          5\n",
       "3    5.8          4\n",
       "4    6.0          4\n",
       "5    6.4          4\n",
       "6    4.8          4\n",
       "7    6.5          4"
      ]
     },
     "execution_count": 4,
     "metadata": {},
     "output_type": "execute_result"
    }
   ],
   "source": [
    "items = df.sample(75)['sepal_length'].value_counts().items()\n",
    "ft = []\n",
    "for index, value in items:\n",
    "    if value < 4:\n",
    "        continue\n",
    "    ft.append((index, value))\n",
    "FrquencyTable = pd.DataFrame(ft)\n",
    "FrquencyTable.columns = ['value', 'frequency']\n",
    "FrquencyTable"
   ]
  },
  {
   "cell_type": "markdown",
   "id": "8e648b11",
   "metadata": {},
   "source": [
    "# Measures of  Central Tendency"
   ]
  },
  {
   "cell_type": "markdown",
   "id": "30626322",
   "metadata": {},
   "source": [
    "- ## Mean\n",
    "\n",
    "The **Mean** or **Arithmetic Average** is the value obtained by dividing the sum of all the data by the total number of data points.\n",
    "\n",
    "**Population Mean** <br>\n",
    "$$ \n",
    "\\Large\\mu = \\dfrac{\\sum x}{N} \n",
    "$$\n",
    "\n",
    "**Sample Mean** <br>\n",
    "$$ \n",
    "\\Large\\bar x = \\dfrac{\\sum x}{n} \n",
    "$$\n",
    "\n",
    "-------------------------------------------------\n",
    "- Calculating mean for Frequency Table\n",
    "\n",
    "$$ \n",
    "\\bar x = \\dfrac{\\sum (x * f)}{n} \n",
    "$$\n",
    "where $ f $ is the frequency for any data point\n",
    "\n",
    "-------------------------------------------------\n",
    "- Calculating mean for Grouped Frequency Table\n",
    "\n",
    "$$ \n",
    "\\bar x = \\dfrac{\\sum (m * f)}{n} \n",
    "$$\n",
    "\n",
    "where, $$\n",
    "m = \\dfrac{upper bound + lower bound}{2}\n",
    "$$"
   ]
  },
  {
   "cell_type": "markdown",
   "id": "dfc07a02",
   "metadata": {},
   "source": [
    "**Note: Differnet Types of Mean**\n",
    "\n",
    "1. Arithmatic mean <br>\n",
    "$ \\Large AM = \\dfrac{\\sum {x}}{n} $\n",
    "\n",
    "eg. Calculating avg marks <br><br>\n",
    "\n",
    "\n",
    "2. Geometric Mean <br>\n",
    "$ \\Large GM = \\sqrt[n]{\\prod{x}} $\n",
    "\n",
    "eg. Average yearly rate of return for given yearly returns for $n$ years <br><br>\n",
    "\n",
    "\n",
    "3. Harmonic Mean <br>\n",
    "$ \\Large HM = \\dfrac{n} {\\sum{\\Bigg(\\dfrac{1}{x}\\Bigg)}} $\n",
    "\n",
    "eg. Average speed across fixed distance instead of across fixed time <br>"
   ]
  },
  {
   "cell_type": "code",
   "execution_count": 5,
   "id": "13c266d0",
   "metadata": {},
   "outputs": [
    {
     "name": "stdout",
     "output_type": "stream",
     "text": [
      "Mean using Numpy function:  5.765000000000001\n",
      "Mean using formula:  5.765000000000001\n"
     ]
    }
   ],
   "source": [
    "vals = df.sample(20)['sepal_length'].values\n",
    "print(\"Mean using Numpy function: \", np.mean(vals))\n",
    "vals_mean = sum(list(vals)) / 20\n",
    "print(\"Mean using formula: \", vals_mean)"
   ]
  },
  {
   "cell_type": "code",
   "execution_count": 6,
   "id": "0cbeb4fb",
   "metadata": {},
   "outputs": [
    {
     "data": {
      "text/plain": [
       "4"
      ]
     },
     "execution_count": 6,
     "metadata": {},
     "output_type": "execute_result"
    }
   ],
   "source": [
    "df.sample(50)['sepal_length'].value_counts().iloc[0]"
   ]
  },
  {
   "cell_type": "markdown",
   "id": "9b828609",
   "metadata": {},
   "source": [
    "- ## Median\n",
    "\n",
    "**Median** refers to the data situated at exactly the middle location of the distribution.\n",
    "\n",
    "If $ X $ is an ordered dataset then\n",
    "$$  \n",
    "\\Large Med(X) = \\begin{cases}\n",
    "    X\\Bigg[\\dfrac{n+1}{2}\\Bigg] &  \\text{if n is odd}\\\\\n",
    "    \\dfrac{X\\Bigg[\\dfrac{n}{2}\\Bigg] + X\\Bigg[\\dfrac{n}{2} + 1\\Bigg]}{2} &  \\text{if n is even}\n",
    "\\end{cases}\n",
    "$$\n",
    "where $ N $ is number of values in the dataset\n",
    "\n",
    "-------------------------------------------------\n",
    "For a grouped frequency table,\n",
    "\n",
    "$$ \n",
    "Median = L + \\Bigg[ \\dfrac{ \\dfrac{n}{2} + cf } {f} \\Bigg] \\cdot h  \n",
    "$$\n",
    "where, <br>\n",
    "$ N $ = Number of values in the dataset <br>\n",
    "$ L $ = Lower limit of the median class <br>\n",
    "$cf $ = Cumulative frequency of previous class <br>\n",
    "$ f $ = Frequency of the median class <br>\n",
    "$ h $ = Width of the class    "
   ]
  },
  {
   "cell_type": "code",
   "execution_count": 7,
   "id": "adb478ae",
   "metadata": {},
   "outputs": [
    {
     "name": "stdout",
     "output_type": "stream",
     "text": [
      "values [4.9, 5.3, 7.7, 4.6, 6.7, 6.4, 5.7, 6.5, 5.8, 5.1, 6.7, 6.1, 6.7, 5.4, 5.1, 6.0, 5.0, 4.3, 4.9, 6.4]\n",
      "Median using Numpy function:  5.75\n",
      "Sorted values [4.3, 4.6, 4.9, 4.9, 5.0, 5.1, 5.1, 5.3, 5.4, 5.7, 5.8, 6.0, 6.1, 6.4, 6.4, 6.5, 6.7, 6.7, 6.7, 7.7]\n",
      "Median using formula:  5.75\n"
     ]
    }
   ],
   "source": [
    "print('values', list(vals))\n",
    "print(\"Median using Numpy function: \", np.median(vals))\n",
    "sorted_vals = sorted(list(vals))\n",
    "print('Sorted values', sorted_vals)\n",
    "vals_median = (sorted_vals[9] + sorted_vals[10]) / 2   # 10th and 11th value\n",
    "print(\"Median using formula: \", vals_median)"
   ]
  },
  {
   "cell_type": "markdown",
   "id": "81a07951",
   "metadata": {},
   "source": [
    "- ## Mode\n",
    "\n",
    "The Mode refers to the data value that occurs most frequently in a given dataset. Hence, it uses the frequency (repetition) of a certain value to be a representative of the central tendency of data. \n",
    "\n",
    "If two (or more) values occur with the same frequency in a dataset, both (or all) of the items are considered the mode of the data and the data set is **multimodal**.\n",
    "\n",
    "--------------------------------------------------------------------------------\n",
    "For a grouped frequency table,\n",
    "$$\n",
    "Mode = L + \\Bigg( \\dfrac{f_{1} - f_{0}} {2f_{1} - f_{0} - f_{2}} \\Bigg)\n",
    "$$\n",
    "where, <br>\n",
    "$ L $ = Lower limit of the modal class <br>\n",
    "$ f_{1} $ = freuency of the modal class <br>\n",
    "$ f_{0} $ = freuency of the previous class <br>\n",
    "$ f_{2} $ = freuency of the next class <br>\n",
    "$ h $ = Width of the class "
   ]
  },
  {
   "cell_type": "markdown",
   "id": "d2abbfb5",
   "metadata": {},
   "source": [
    "# Finding statistics for given dataframe"
   ]
  },
  {
   "cell_type": "code",
   "execution_count": 8,
   "id": "d0018f15",
   "metadata": {},
   "outputs": [
    {
     "data": {
      "text/html": [
       "<div>\n",
       "<style scoped>\n",
       "    .dataframe tbody tr th:only-of-type {\n",
       "        vertical-align: middle;\n",
       "    }\n",
       "\n",
       "    .dataframe tbody tr th {\n",
       "        vertical-align: top;\n",
       "    }\n",
       "\n",
       "    .dataframe thead th {\n",
       "        text-align: right;\n",
       "    }\n",
       "</style>\n",
       "<table border=\"1\" class=\"dataframe\">\n",
       "  <thead>\n",
       "    <tr style=\"text-align: right;\">\n",
       "      <th></th>\n",
       "      <th>sepal_length</th>\n",
       "      <th>sepal_width</th>\n",
       "      <th>petal_length</th>\n",
       "      <th>petal_width</th>\n",
       "      <th>species</th>\n",
       "    </tr>\n",
       "  </thead>\n",
       "  <tbody>\n",
       "    <tr>\n",
       "      <th>123</th>\n",
       "      <td>6.3</td>\n",
       "      <td>2.7</td>\n",
       "      <td>4.9</td>\n",
       "      <td>1.8</td>\n",
       "      <td>virginica</td>\n",
       "    </tr>\n",
       "    <tr>\n",
       "      <th>121</th>\n",
       "      <td>5.6</td>\n",
       "      <td>2.8</td>\n",
       "      <td>4.9</td>\n",
       "      <td>2.0</td>\n",
       "      <td>virginica</td>\n",
       "    </tr>\n",
       "    <tr>\n",
       "      <th>144</th>\n",
       "      <td>6.7</td>\n",
       "      <td>3.3</td>\n",
       "      <td>5.7</td>\n",
       "      <td>2.5</td>\n",
       "      <td>virginica</td>\n",
       "    </tr>\n",
       "    <tr>\n",
       "      <th>120</th>\n",
       "      <td>6.9</td>\n",
       "      <td>3.2</td>\n",
       "      <td>5.7</td>\n",
       "      <td>2.3</td>\n",
       "      <td>virginica</td>\n",
       "    </tr>\n",
       "    <tr>\n",
       "      <th>74</th>\n",
       "      <td>6.4</td>\n",
       "      <td>2.9</td>\n",
       "      <td>4.3</td>\n",
       "      <td>1.3</td>\n",
       "      <td>versicolor</td>\n",
       "    </tr>\n",
       "    <tr>\n",
       "      <th>147</th>\n",
       "      <td>6.5</td>\n",
       "      <td>3.0</td>\n",
       "      <td>5.2</td>\n",
       "      <td>2.0</td>\n",
       "      <td>virginica</td>\n",
       "    </tr>\n",
       "    <tr>\n",
       "      <th>98</th>\n",
       "      <td>5.1</td>\n",
       "      <td>2.5</td>\n",
       "      <td>3.0</td>\n",
       "      <td>1.1</td>\n",
       "      <td>versicolor</td>\n",
       "    </tr>\n",
       "    <tr>\n",
       "      <th>5</th>\n",
       "      <td>5.4</td>\n",
       "      <td>3.9</td>\n",
       "      <td>1.7</td>\n",
       "      <td>0.4</td>\n",
       "      <td>setosa</td>\n",
       "    </tr>\n",
       "    <tr>\n",
       "      <th>72</th>\n",
       "      <td>6.3</td>\n",
       "      <td>2.5</td>\n",
       "      <td>4.9</td>\n",
       "      <td>1.5</td>\n",
       "      <td>versicolor</td>\n",
       "    </tr>\n",
       "    <tr>\n",
       "      <th>45</th>\n",
       "      <td>4.8</td>\n",
       "      <td>3.0</td>\n",
       "      <td>1.4</td>\n",
       "      <td>0.3</td>\n",
       "      <td>setosa</td>\n",
       "    </tr>\n",
       "  </tbody>\n",
       "</table>\n",
       "</div>"
      ],
      "text/plain": [
       "     sepal_length  sepal_width  petal_length  petal_width     species\n",
       "123           6.3          2.7           4.9          1.8   virginica\n",
       "121           5.6          2.8           4.9          2.0   virginica\n",
       "144           6.7          3.3           5.7          2.5   virginica\n",
       "120           6.9          3.2           5.7          2.3   virginica\n",
       "74            6.4          2.9           4.3          1.3  versicolor\n",
       "147           6.5          3.0           5.2          2.0   virginica\n",
       "98            5.1          2.5           3.0          1.1  versicolor\n",
       "5             5.4          3.9           1.7          0.4      setosa\n",
       "72            6.3          2.5           4.9          1.5  versicolor\n",
       "45            4.8          3.0           1.4          0.3      setosa"
      ]
     },
     "execution_count": 8,
     "metadata": {},
     "output_type": "execute_result"
    }
   ],
   "source": [
    "df.sample(10)"
   ]
  },
  {
   "cell_type": "code",
   "execution_count": 9,
   "id": "bac38553",
   "metadata": {},
   "outputs": [
    {
     "data": {
      "text/plain": [
       "sepal_length    5.843333\n",
       "sepal_width     3.057333\n",
       "petal_length    3.758000\n",
       "petal_width     1.199333\n",
       "dtype: float64"
      ]
     },
     "execution_count": 9,
     "metadata": {},
     "output_type": "execute_result"
    }
   ],
   "source": [
    "df.mean(axis=0, numeric_only=True)"
   ]
  },
  {
   "cell_type": "code",
   "execution_count": 10,
   "id": "13e5d685",
   "metadata": {},
   "outputs": [
    {
     "data": {
      "text/plain": [
       "sepal_length    5.80\n",
       "sepal_width     3.00\n",
       "petal_length    4.35\n",
       "petal_width     1.30\n",
       "dtype: float64"
      ]
     },
     "execution_count": 10,
     "metadata": {},
     "output_type": "execute_result"
    }
   ],
   "source": [
    "df.median(axis=0, numeric_only=True)"
   ]
  },
  {
   "cell_type": "code",
   "execution_count": 11,
   "id": "111278b9",
   "metadata": {},
   "outputs": [
    {
     "data": {
      "text/html": [
       "<div>\n",
       "<style scoped>\n",
       "    .dataframe tbody tr th:only-of-type {\n",
       "        vertical-align: middle;\n",
       "    }\n",
       "\n",
       "    .dataframe tbody tr th {\n",
       "        vertical-align: top;\n",
       "    }\n",
       "\n",
       "    .dataframe thead th {\n",
       "        text-align: right;\n",
       "    }\n",
       "</style>\n",
       "<table border=\"1\" class=\"dataframe\">\n",
       "  <thead>\n",
       "    <tr style=\"text-align: right;\">\n",
       "      <th></th>\n",
       "      <th>sepal_length</th>\n",
       "      <th>sepal_width</th>\n",
       "      <th>petal_length</th>\n",
       "      <th>petal_width</th>\n",
       "    </tr>\n",
       "  </thead>\n",
       "  <tbody>\n",
       "    <tr>\n",
       "      <th>0</th>\n",
       "      <td>5.0</td>\n",
       "      <td>3.0</td>\n",
       "      <td>1.4</td>\n",
       "      <td>0.2</td>\n",
       "    </tr>\n",
       "    <tr>\n",
       "      <th>1</th>\n",
       "      <td>NaN</td>\n",
       "      <td>NaN</td>\n",
       "      <td>1.5</td>\n",
       "      <td>NaN</td>\n",
       "    </tr>\n",
       "  </tbody>\n",
       "</table>\n",
       "</div>"
      ],
      "text/plain": [
       "   sepal_length  sepal_width  petal_length  petal_width\n",
       "0           5.0          3.0           1.4          0.2\n",
       "1           NaN          NaN           1.5          NaN"
      ]
     },
     "execution_count": 11,
     "metadata": {},
     "output_type": "execute_result"
    }
   ],
   "source": [
    "df.mode(numeric_only=True)"
   ]
  },
  {
   "cell_type": "markdown",
   "id": "fbf56330",
   "metadata": {},
   "source": [
    "# Quantiles\n",
    "**Quantiles are the way of splitting dataset into even sections.**\n",
    "\n",
    "**Quartile** : Quartile points splits the ordered dataset into four even sections. **(Q1, Q2(median), Q3)** <br>\n",
    "**Decile** : Decile points splits the ordered dataset into ten even sections. **(D1, D2, ..., D8, D9)** <br>\n",
    "**Percentile**: It is a value below which the given percentage of observtions lie. <br>\n",
    "\n",
    "\n",
    "\n",
    "0 quartile = 0 percentile   = 0 quantile <br>\n",
    "1 quartile = 25 percentile  = .25 quantile  <br>\n",
    "2 quartile = 50 percentile  = .5 quantile = 5 decile = median  <br>\n",
    "3 quartile = 75 percentile  = .75 quantile  <br>\n",
    "4 quartile = 100 percentile = 1 quantile  <br>\n"
   ]
  },
  {
   "cell_type": "code",
   "execution_count": 12,
   "id": "fbdd3b54",
   "metadata": {},
   "outputs": [
    {
     "data": {
      "text/plain": [
       "sepal_length    5.27\n",
       "sepal_width     2.80\n",
       "petal_length    1.70\n",
       "petal_width     0.40\n",
       "Name: 0.3, dtype: float64"
      ]
     },
     "execution_count": 12,
     "metadata": {},
     "output_type": "execute_result"
    }
   ],
   "source": [
    "df.quantile(0.3,numeric_only=True)"
   ]
  },
  {
   "cell_type": "code",
   "execution_count": 13,
   "id": "43c0d4d6",
   "metadata": {},
   "outputs": [
    {
     "data": {
      "text/html": [
       "<div>\n",
       "<style scoped>\n",
       "    .dataframe tbody tr th:only-of-type {\n",
       "        vertical-align: middle;\n",
       "    }\n",
       "\n",
       "    .dataframe tbody tr th {\n",
       "        vertical-align: top;\n",
       "    }\n",
       "\n",
       "    .dataframe thead th {\n",
       "        text-align: right;\n",
       "    }\n",
       "</style>\n",
       "<table border=\"1\" class=\"dataframe\">\n",
       "  <thead>\n",
       "    <tr style=\"text-align: right;\">\n",
       "      <th></th>\n",
       "      <th>sepal_length</th>\n",
       "      <th>sepal_width</th>\n",
       "      <th>petal_length</th>\n",
       "      <th>petal_width</th>\n",
       "    </tr>\n",
       "  </thead>\n",
       "  <tbody>\n",
       "    <tr>\n",
       "      <th>median</th>\n",
       "      <td>5.8</td>\n",
       "      <td>3.0</td>\n",
       "      <td>4.35</td>\n",
       "      <td>1.3</td>\n",
       "    </tr>\n",
       "    <tr>\n",
       "      <th>50 percentile</th>\n",
       "      <td>5.8</td>\n",
       "      <td>3.0</td>\n",
       "      <td>4.35</td>\n",
       "      <td>1.3</td>\n",
       "    </tr>\n",
       "  </tbody>\n",
       "</table>\n",
       "</div>"
      ],
      "text/plain": [
       "               sepal_length  sepal_width  petal_length  petal_width\n",
       "median                  5.8          3.0          4.35          1.3\n",
       "50 percentile           5.8          3.0          4.35          1.3"
      ]
     },
     "execution_count": 13,
     "metadata": {},
     "output_type": "execute_result"
    }
   ],
   "source": [
    "pd.DataFrame([df.median(numeric_only=True), df.quantile(0.50,numeric_only=True)], index=[\"median\", \"50 percentile\"])"
   ]
  },
  {
   "cell_type": "markdown",
   "id": "e0c38def",
   "metadata": {},
   "source": [
    "**Five Point Summary** <br>\n",
    "1. Minimum\n",
    "2. First Quartile(Q1)\n",
    "3. Median\n",
    "4. Third Quartile(Q3)\n",
    "5. Maximum"
   ]
  },
  {
   "cell_type": "code",
   "execution_count": 14,
   "id": "71fb418f",
   "metadata": {
    "scrolled": false
   },
   "outputs": [
    {
     "data": {
      "text/html": [
       "<div>\n",
       "<style scoped>\n",
       "    .dataframe tbody tr th:only-of-type {\n",
       "        vertical-align: middle;\n",
       "    }\n",
       "\n",
       "    .dataframe tbody tr th {\n",
       "        vertical-align: top;\n",
       "    }\n",
       "\n",
       "    .dataframe thead th {\n",
       "        text-align: right;\n",
       "    }\n",
       "</style>\n",
       "<table border=\"1\" class=\"dataframe\">\n",
       "  <thead>\n",
       "    <tr style=\"text-align: right;\">\n",
       "      <th></th>\n",
       "      <th>sepal_length</th>\n",
       "      <th>sepal_width</th>\n",
       "      <th>petal_length</th>\n",
       "      <th>petal_width</th>\n",
       "    </tr>\n",
       "  </thead>\n",
       "  <tbody>\n",
       "    <tr>\n",
       "      <th>min</th>\n",
       "      <td>4.3</td>\n",
       "      <td>2.0</td>\n",
       "      <td>1.00</td>\n",
       "      <td>0.1</td>\n",
       "    </tr>\n",
       "    <tr>\n",
       "      <th>Q1</th>\n",
       "      <td>5.1</td>\n",
       "      <td>2.8</td>\n",
       "      <td>1.60</td>\n",
       "      <td>0.3</td>\n",
       "    </tr>\n",
       "    <tr>\n",
       "      <th>median</th>\n",
       "      <td>5.8</td>\n",
       "      <td>3.0</td>\n",
       "      <td>4.35</td>\n",
       "      <td>1.3</td>\n",
       "    </tr>\n",
       "    <tr>\n",
       "      <th>Q3</th>\n",
       "      <td>6.4</td>\n",
       "      <td>3.3</td>\n",
       "      <td>5.10</td>\n",
       "      <td>1.8</td>\n",
       "    </tr>\n",
       "    <tr>\n",
       "      <th>max</th>\n",
       "      <td>7.9</td>\n",
       "      <td>4.4</td>\n",
       "      <td>6.90</td>\n",
       "      <td>2.5</td>\n",
       "    </tr>\n",
       "  </tbody>\n",
       "</table>\n",
       "</div>"
      ],
      "text/plain": [
       "        sepal_length  sepal_width  petal_length  petal_width\n",
       "min              4.3          2.0          1.00          0.1\n",
       "Q1               5.1          2.8          1.60          0.3\n",
       "median           5.8          3.0          4.35          1.3\n",
       "Q3               6.4          3.3          5.10          1.8\n",
       "max              7.9          4.4          6.90          2.5"
      ]
     },
     "execution_count": 14,
     "metadata": {},
     "output_type": "execute_result"
    }
   ],
   "source": [
    "fvs = df.describe().iloc[3:, :]\n",
    "fvs.rename(index={\"25%\":\"Q1\", \"50%\":\"median\",\"75%\":\"Q3\"})"
   ]
  },
  {
   "cell_type": "markdown",
   "id": "9157d573",
   "metadata": {},
   "source": [
    "# Measures of Variability / Dispersion"
   ]
  },
  {
   "cell_type": "markdown",
   "id": "239bec42",
   "metadata": {},
   "source": [
    "- ## Range | InterQuartile Range\n",
    "\n",
    "**Range =** $max - min$ <br>\n",
    "**IQR =** $Q_{3} - Q_{1}$\n",
    "\n",
    "##### Why bother with inter-quartile range ?\n",
    "Range is susceptible to the outliers. IQR is used in box-whiskers plot to determine length of whisker to finding ouliers."
   ]
  },
  {
   "cell_type": "markdown",
   "id": "437d804a",
   "metadata": {},
   "source": [
    "- ## Variance\n",
    "\n",
    "**Variance** measures how data is spread around the mean.\n",
    "\n",
    "$ \\sigma ^ 2 $ : Variance of the population  <br>\n",
    "$ s ^ 2 $ : Variance of the sample\n",
    "\n",
    "$$\n",
    "\\Large s^2 = \\dfrac{\\sum (X_{i} - \\bar X)^2} {n-1}\n",
    "$$\n",
    "\n",
    "------------------------------------------------------------------------------------------------------------------\n",
    "\n",
    "- ## Standard deviation\n",
    "\n",
    "The square valued variance gives extra weight to outliers.<br> \n",
    "Hence, **Standard Deviation** = $\\sqrt{}$ Variance\n",
    "\n",
    "$ \\sigma $ : Std. Deviation of the population  <br>\n",
    "$ s $ : Std. Deviation of the sample\n",
    "\n",
    "$$\n",
    "\\Large s = \\sqrt{\\dfrac{\\sum (X_{i} - \\bar X)^2} {n-1}}\n",
    "$$"
   ]
  },
  {
   "cell_type": "code",
   "execution_count": 15,
   "id": "3aa6551d",
   "metadata": {
    "scrolled": true
   },
   "outputs": [
    {
     "data": {
      "text/plain": [
       "sepal_length    0.685694\n",
       "sepal_width     0.189979\n",
       "petal_length    3.116278\n",
       "petal_width     0.581006\n",
       "dtype: float64"
      ]
     },
     "execution_count": 15,
     "metadata": {},
     "output_type": "execute_result"
    }
   ],
   "source": [
    "#variance\n",
    "df.var(axis=0, numeric_only=True)"
   ]
  },
  {
   "cell_type": "code",
   "execution_count": 16,
   "id": "f1aa022e",
   "metadata": {
    "scrolled": true
   },
   "outputs": [
    {
     "data": {
      "text/plain": [
       "sepal_length    0.828066\n",
       "sepal_width     0.435866\n",
       "petal_length    1.765298\n",
       "petal_width     0.762238\n",
       "dtype: float64"
      ]
     },
     "execution_count": 16,
     "metadata": {},
     "output_type": "execute_result"
    }
   ],
   "source": [
    "#std. deviation\n",
    "df.std(axis=0, numeric_only=True)"
   ]
  },
  {
   "cell_type": "markdown",
   "id": "e39492fb",
   "metadata": {},
   "source": [
    "> For population,\n",
    "$$\n",
    "\\Large \\sigma = \\sqrt{\\dfrac{\\sum (X_{i} - \\mu)^2} {N}}\n",
    "$$\n",
    "------------------------------------------------------\n",
    "\n",
    "**Why do bother with \"variance\"<br> \n",
    "(ie why square ?)**<br>\n",
    "Deviation from the mean for some observations is negative. In case of mean absolute deviation absolute values are taken which makes it less sensitive to outliers. Hence std. deviation is square root of variance.\n",
    "Laplace preferred absolute values. But squared values preferred by Gauss are convention because for minimizing variability function with squared values were easy to differentiate (in calculus).\n",
    "\n",
    "**Why $n-1$ in sample calculations**<br>\n",
    "The **variance** is the average squared deviation from the **population mean**. Population mean $\\mu$ is unknown in practical situations. Hence we estimate its value by taking **sample mean** $\\bar x$. Hence, the **sample mean** is one of the POSSIBLE position for the true population mean. At any other position, the sum of the squares would be larger. Hence smaller denominator adjusts the variance estimate upwards. The value $1$ is statistically derived.<br>\n",
    "\n",
    "**Degrees of freedom: https://youtu.be/wpY9o_OyxoQ?t=646**"
   ]
  },
  {
   "cell_type": "markdown",
   "id": "48e2dce5",
   "metadata": {},
   "source": [
    "**Visualizing spread using density estimate plot**"
   ]
  },
  {
   "cell_type": "code",
   "execution_count": 17,
   "id": "d6a30961",
   "metadata": {
    "scrolled": false
   },
   "outputs": [
    {
     "data": {
      "image/png": "[encoded data removed]",
      "text/plain": [
       "<Figure size 640x480 with 1 Axes>"
      ]
     },
     "metadata": {},
     "output_type": "display_data"
    }
   ],
   "source": [
    "import matplotlib.pyplot as plt\n",
    "%matplotlib inline\n",
    "df[['sepal_length', 'sepal_width']].plot.kde()\n",
    "plt.show()"
   ]
  },
  {
   "cell_type": "markdown",
   "id": "1a375847",
   "metadata": {},
   "source": [
    "- ## Coefficient Of Variation\n",
    "\n",
    "While comparing two datasets values std. deviation doesn't take under consideration the scale of the the dataset. Hence, **coefficient of variation** is used.\n",
    "$$\n",
    "CV = \\Large\\dfrac{s}{\\bar x}\n",
    "$$"
   ]
  },
  {
   "cell_type": "code",
   "execution_count": 18,
   "id": "9c7ea881",
   "metadata": {},
   "outputs": [
    {
     "name": "stdout",
     "output_type": "stream",
     "text": [
      "Sx : 1.0\n",
      "Sy : 1.0\n"
     ]
    }
   ],
   "source": [
    "#Consider, \n",
    "X = np.array([1, 2, 3])\n",
    "Y = np.array([101, 102, 103])\n",
    "#Here, \n",
    "print(f\"Sx : {np.std(X, ddof=1)}\")\n",
    "print(f\"Sy : {np.std(Y, ddof=1)}\")"
   ]
  },
  {
   "cell_type": "code",
   "execution_count": 19,
   "id": "4e84844d",
   "metadata": {},
   "outputs": [
    {
     "name": "stdout",
     "output_type": "stream",
     "text": [
      "CVx : 0.5\n",
      "CVy : 0.00980392156862745\n"
     ]
    }
   ],
   "source": [
    "\"\"\"here Sx and Sy are equal but if we consider the scales of datasets,\n",
    "the spread in dataset X is as the largest value is triple of the smallest.\"\"\"\n",
    "print(f\"CVx : {np.std(X, ddof=1)/np.mean(X)}\")\n",
    "print(f\"CVy : {np.std(Y, ddof=1)/np.mean(Y)}\")"
   ]
  },
  {
   "cell_type": "markdown",
   "id": "418802b9",
   "metadata": {},
   "source": [
    "**Hence, in terms of scale spread in dataset Y is lesser.**"
   ]
  }
 ],
 "metadata": {
  "kernelspec": {
   "display_name": "Python 3 (ipykernel)",
   "language": "python",
   "name": "python3"
  },
  "language_info": {
   "codemirror_mode": {
    "name": "ipython",
    "version": 3
   },
   "file_extension": ".py",
   "mimetype": "text/x-python",
   "name": "python",
   "nbconvert_exporter": "python",
   "pygments_lexer": "ipython3",
   "version": "3.10.0"
  }
 },
 "nbformat": 4,
 "nbformat_minor": 5
}
