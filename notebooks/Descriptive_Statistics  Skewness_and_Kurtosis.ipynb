{
 "cells": [
  {
   "cell_type": "markdown",
   "id": "e31492df",
   "metadata": {},
   "source": [
    "# Moments\n",
    "\n",
    "In mathematics, a moment is a specific quantitative measure of the shape of a set of points. It is often used in statistics, physics, and image processing. There are different types of moments, such as raw moments, central moments, and standardized moments, which are used for different purposes.\n",
    "\n",
    "In statistics, moments are specific quantitative measures of the shape of a probability distribution. They are often used to describe the properties of a distribution and to compare different distributions.\n"
   ]
  },
  {
   "cell_type": "markdown",
   "id": "d360259f",
   "metadata": {},
   "source": [
    "**Moments are defined in relation to a fixed reference point and how the data values are arranged around it**"
   ]
  },
  {
   "cell_type": "code",
   "execution_count": 1,
   "id": "c7b60f10",
   "metadata": {},
   "outputs": [],
   "source": [
    "import numpy as np\n",
    "import pandas as pd\n",
    "import matplotlib.pyplot as plt\n",
    "import seaborn as sns"
   ]
  },
  {
   "cell_type": "markdown",
   "id": "899e0ad9",
   "metadata": {},
   "source": [
    "**Consider the following dataset**<br>\n",
    "[12, 14, 14, 17, 18]\n",
    "\n",
    "![](..\\images\\data1.png)\n",
    "\n",
    "**Here, point at $12$ means 12 units from the origin. Moments are related to the distances.**"
   ]
  },
  {
   "cell_type": "code",
   "execution_count": 2,
   "id": "aed92be4",
   "metadata": {},
   "outputs": [
    {
     "data": {
      "text/plain": [
       "15.0"
      ]
     },
     "execution_count": 2,
     "metadata": {},
     "output_type": "execute_result"
    }
   ],
   "source": [
    "#Lets calculate the average distances from the origin\n",
    "data = [12, 14, 14, 17, 18]\n",
    "avg = 0\n",
    "for d in data:\n",
    "    avg += (d - 0)\n",
    "avg /= len(data)\n",
    "avg  "
   ]
  },
  {
   "cell_type": "markdown",
   "id": "cc18420a",
   "metadata": {},
   "source": [
    "**Avg distance can be expressed as,**\n",
    "$$\n",
    "First Moment = \\dfrac{\\sum (x_{i}-0)}{N}\n",
    "$$\n"
   ]
  },
  {
   "cell_type": "markdown",
   "id": "44e67674",
   "metadata": {},
   "source": [
    "![](..\\images\\data2.png)\n",
    "\n",
    "**Above data also results in same first moment but its spread is different. Hence, we increase the order of equation.**\n",
    "\n",
    "$$\n",
    "Second Moment = \\dfrac{\\sum (x_{i}-0)^2}{N}\n",
    "$$\n",
    "\n",
    "**These are known as raw/crude moments. We can also calulate higher order moments**"
   ]
  },
  {
   "cell_type": "markdown",
   "id": "2c40755d",
   "metadata": {},
   "source": [
    "## Raw Moments\n",
    "\n",
    "Raw moments(crude moments) are a type of moment that measure the distribution of a set of points along a specific axis. The nth raw moment of a set of points, X, is calculated by taking the sum of the product of each point in the set and its corresponding power of n. The formula for the nth raw moment is:\n",
    "$$\n",
    "\\Large \\mu'_{n} = \\dfrac{\\sum x_{i}^{n}}{N}\n",
    "$$"
   ]
  },
  {
   "cell_type": "markdown",
   "id": "09869a1d",
   "metadata": {},
   "source": [
    "## Central Moments\n",
    "\n",
    "While calculating the raw moments from $n=2$ with reference point as $0$ we are also taking consideration the first raw moment i.e average distance from the point $0$. We can remove that effect by substracting the **first moment** from each observations.\n",
    "These are known as central moments.\n",
    "$$\n",
    "\\Large \\mu_{n} = \\dfrac{\\sum (x_{i}-\\mu)^{n}}{N}\n",
    "$$"
   ]
  },
  {
   "cell_type": "markdown",
   "id": "d02ece76",
   "metadata": {},
   "source": [
    "### Higher order moments\n",
    "\n",
    "\n",
    "|n| RAW                         | CENTRAL                           | STANDARDIZED                                         |\n",
    "|-|     :-------:               | :---------:                       | :--------------:                                     |\n",
    "|1| $$\\dfrac{\\sum x_{i}}{N}$$ (mean) | ------------- | ------------- |\n",
    "|2| $$\\dfrac{\\sum x_{i}^2}{N}$$ | $$\\dfrac{\\sum (x_{i}-\\mu)^2}{N}$$ (variance) | ----------- |\n",
    "|3| $$\\dfrac{\\sum x_{i}^3}{N}$$ | $$\\dfrac{\\sum (x_{i}-\\mu)^3}{N}$$ | $$\\dfrac{1}{N}\\dfrac{\\sum (x_{i}-\\mu)^3}{\\sigma^3}$$ (skewness) |\n",
    "|4| $$\\dfrac{\\sum x_{i}^4}{N}$$ | $$\\dfrac{\\sum (x_{i}-\\mu)^4}{N}$$ | $$\\dfrac{1}{N}\\dfrac{\\sum (x_{i}-\\mu)^4}{\\sigma^4}$$ (kurtosis)|\n",
    "\n",
    "**Kurtosis is not needed to be adjusted by skewness because it can be calculated for symmetric distribution(skewness=0)**"
   ]
  },
  {
   "cell_type": "markdown",
   "id": "2facae21",
   "metadata": {},
   "source": [
    "### Sample adjusted moments\n",
    "\n",
    "$$\n",
    "\\mu_{1} = \\dfrac{\\sum x}{n}\n",
    "$$\n",
    "<br>\n",
    "$$\n",
    "\\mu_{2} = \\dfrac{\\sum (x-\\mu)^2}{n} \\longrightarrow \\dfrac{\\sum (x-\\bar x)^2}{n-1}\n",
    "$$\n",
    "<br>\n",
    "$$\n",
    "\\mu_{3} = \\dfrac{1}{n}\\dfrac{\\sum (x-\\mu)^3}{\\sigma^3} \\longrightarrow \\dfrac{n}{(n-1)(n-2)}\\dfrac{\\sum (x-\\bar x)^3}{s^3}\n",
    "$$\n",
    "<br>\n",
    "$$\n",
    "\\mu_{4} = \\dfrac{1}{n}\\dfrac{\\sum (x-\\mu)^4}{\\sigma^4} \\searrow $$<br> $$\n",
    "          \\dfrac{n(n+1)}{(n-1)(n-2)(n-3)}\\dfrac{\\sum (x-\\bar x)^4}{s^4} - \\dfrac{3(n-1)^2}{(n-2)(n-3}\n",
    "$$"
   ]
  },
  {
   "cell_type": "markdown",
   "id": "13b4b128",
   "metadata": {},
   "source": [
    "# Skewness\n",
    "\n",
    "Skewness is a measure of the asymmetry of a probability distribution. It measures the degree to which a distribution deviates from a symmetric bell-shaped distribution. Skewness can be positive, negative, or zero.\n",
    "\n",
    "![](https://upload.wikimedia.org/wikipedia/commons/thumb/c/cc/Relationship_between_mean_and_median_under_different_skewness.png/434px-Relationship_between_mean_and_median_under_different_skewness.png)\n",
    "\n",
    "\n",
    "### Calculating skew \n",
    "\n",
    "#### 1.Peasrson's Calculation\n",
    "\n",
    "$$\n",
    "Pearson's \\:  Coeffcient = \\dfrac{mean - mode}{std deviation} \\:\\:\\:\\:\\: \\text{; mode skewness}\n",
    "$$\n",
    "Normally, the coefficient of skewness lies between $-3$ to $3$\n",
    "\n",
    "In case the mode is indeterminate,\n",
    "$$\n",
    "Pearson's \\:  Coeffcient = \\dfrac{3(mean - median)}{std deviation} \\:\\:\\:\\:\\ \\text{; median skewness}\n",
    "$$\n",
    "\n",
    "#### 2. Moments method\n",
    "Third standardized moment adjusted to sample we get measure of skewness\n",
    "$$\n",
    "skewness = \\dfrac{n}{(n-1)(n-2)}\\dfrac{\\sum (x-\\bar x)^3}{s^3}\n",
    "$$\n"
   ]
  },
  {
   "cell_type": "markdown",
   "id": "5a70d4a6",
   "metadata": {},
   "source": [
    "# Kurtosis\n",
    "\n",
    "**Historical definition:** The `peakedness` of a distribution.<br>\n",
    "Kurtosis is a measure of the peakedness of a probability distribution. It measures the degree to which a distribution's tail is heavy or light compared to a normal distribution. Kurtosis can be positive, negative, or zero.\n",
    "\n",
    "![](https://editor.analyticsvidhya.com/uploads/57983kurt1.png)\n",
    "\n",
    "\n",
    "### Moment based calculation of kurtosis\n",
    "$$\n",
    "kurtosis =  \\dfrac{1}{n}\\dfrac{\\sum (x-\\mu)^4}{\\sigma^4}\n",
    "$$\n",
    "\n",
    "Adjusted for a sample, \n",
    "$$\n",
    "kurtosis = \\dfrac{n(n+1)}{(n-1)(n-2)(n-3)}\\Bigg(\\dfrac{\\sum (x-\\bar x)^4}{s^4}\\Bigg) - \\dfrac{3(n-1)^2}{(n-2)(n-3}\n",
    "$$\n",
    "\n",
    "### Describing kurtosis\n",
    "\n",
    "- A normal distribution has a kurtosis of 3 and is called mesokurtic.\n",
    "- Distribution with kurtosis > 3 is called leptokurtic.\n",
    "- Distribution with kurtosis < 3 is called platykurtic.\n",
    "\n",
    "Kurtosis ranges from 1 to infinity\n",
    "$$Excess \\: kurtosis = kurtosis - 3 \\:\\:\\:\\text{;ranges from -2 to infinity}$$ "
   ]
  }
 ],
 "metadata": {
  "kernelspec": {
   "display_name": "Python 3 (ipykernel)",
   "language": "python",
   "name": "python3"
  },
  "language_info": {
   "codemirror_mode": {
    "name": "ipython",
    "version": 3
   },
   "file_extension": ".py",
   "mimetype": "text/x-python",
   "name": "python",
   "nbconvert_exporter": "python",
   "pygments_lexer": "ipython3",
   "version": "3.10.0"
  }
 },
 "nbformat": 4,
 "nbformat_minor": 5
}
