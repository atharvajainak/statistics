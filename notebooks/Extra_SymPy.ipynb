{
  "nbformat": 4,
  "nbformat_minor": 0,
  "metadata": {
    "colab": {
      "provenance": [],
      "authorship_tag": "ABX9TyPTzTmbc27x2+B7OkPTTj4F",
      "include_colab_link": true
    },
    "kernelspec": {
      "name": "python3",
      "display_name": "Python 3"
    },
    "language_info": {
      "name": "python"
    }
  },
  "cells": [
    {
      "cell_type": "markdown",
      "metadata": {
        "id": "view-in-github",
        "colab_type": "text"
      },
      "source": [
        "<a href=\"https://colab.research.google.com/github/atharvajainak/statistics/blob/main/Extra_SymPy.ipynb\" target=\"_parent\"><img src=\"https://colab.research.google.com/assets/colab-badge.svg\" alt=\"Open In Colab\"/></a>"
      ]
    },
    {
      "cell_type": "markdown",
      "source": [
        "# What is Symbolic Computation?\n",
        "\n",
        "Symbolic computation deals with the computation of mathematical objects symbolically. This means that the mathematical objects are represented exactly, not approximately, and mathematical expressions with unevaluated variables are left in symbolic form."
      ],
      "metadata": {
        "id": "GuwX2rQOnDu6"
      }
    },
    {
      "cell_type": "code",
      "source": [
        "import sympy as smp"
      ],
      "metadata": {
        "id": "Mq3Xy1nXn9hA"
      },
      "execution_count": 1,
      "outputs": []
    },
    {
      "cell_type": "markdown",
      "source": [
        "# Symbols"
      ],
      "metadata": {
        "id": "J7Zv8XsdoOkL"
      }
    },
    {
      "cell_type": "code",
      "source": [
        "x = smp.symbols('x')\n",
        "print(x + 1)\n",
        "print(smp.sin(x))"
      ],
      "metadata": {
        "colab": {
          "base_uri": "https://localhost:8080/"
        },
        "id": "8BL564agoNQ6",
        "outputId": "3a0cf301-7919-4c9c-9fe0-097352b2c1bc"
      },
      "execution_count": 2,
      "outputs": [
        {
          "output_type": "stream",
          "name": "stdout",
          "text": [
            "x + 1\n",
            "sin(x)\n"
          ]
        }
      ]
    },
    {
      "cell_type": "code",
      "source": [
        "y = x ** 2 + 4 * x + 3\n",
        "y"
      ],
      "metadata": {
        "colab": {
          "base_uri": "https://localhost:8080/",
          "height": 39
        },
        "id": "qa1ZbnKKoY9t",
        "outputId": "45f39afe-b17d-4adf-abb1-2903b77700e0"
      },
      "execution_count": 3,
      "outputs": [
        {
          "output_type": "execute_result",
          "data": {
            "text/plain": [
              "x**2 + 4*x + 3"
            ],
            "text/latex": "$\\displaystyle x^{2} + 4 x + 3$"
          },
          "metadata": {},
          "execution_count": 3
        }
      ]
    },
    {
      "cell_type": "code",
      "source": [
        "z = y ** 2\n",
        "z"
      ],
      "metadata": {
        "colab": {
          "base_uri": "https://localhost:8080/",
          "height": 41
        },
        "id": "36sPIDGKopv5",
        "outputId": "43834e37-1d53-4062-db18-c1f2886f258c"
      },
      "execution_count": 4,
      "outputs": [
        {
          "output_type": "execute_result",
          "data": {
            "text/plain": [
              "(x**2 + 4*x + 3)**2"
            ],
            "text/latex": "$\\displaystyle \\left(x^{2} + 4 x + 3\\right)^{2}$"
          },
          "metadata": {},
          "execution_count": 4
        }
      ]
    },
    {
      "cell_type": "code",
      "source": [
        "z.factor()"
      ],
      "metadata": {
        "colab": {
          "base_uri": "https://localhost:8080/",
          "height": 39
        },
        "id": "ldcspoJBo5E7",
        "outputId": "1f11788c-549c-4f0b-a5ae-f814db3011cf"
      },
      "execution_count": 5,
      "outputs": [
        {
          "output_type": "execute_result",
          "data": {
            "text/plain": [
              "(x + 1)**2*(x + 3)**2"
            ],
            "text/latex": "$\\displaystyle \\left(x + 1\\right)^{2} \\left(x + 3\\right)^{2}$"
          },
          "metadata": {},
          "execution_count": 5
        }
      ]
    },
    {
      "cell_type": "code",
      "source": [
        "z.expand()"
      ],
      "metadata": {
        "colab": {
          "base_uri": "https://localhost:8080/",
          "height": 39
        },
        "id": "dK8qsp_0plxS",
        "outputId": "94287c04-002a-431f-8726-547c0c1978a6"
      },
      "execution_count": 6,
      "outputs": [
        {
          "output_type": "execute_result",
          "data": {
            "text/plain": [
              "x**4 + 8*x**3 + 22*x**2 + 24*x + 9"
            ],
            "text/latex": "$\\displaystyle x^{4} + 8 x^{3} + 22 x^{2} + 24 x + 9$"
          },
          "metadata": {},
          "execution_count": 6
        }
      ]
    },
    {
      "cell_type": "code",
      "source": [
        "smp.solve(z, x)"
      ],
      "metadata": {
        "colab": {
          "base_uri": "https://localhost:8080/"
        },
        "id": "yy59rHY4rRgL",
        "outputId": "979c8f91-b459-4780-c8b5-e7998f219a83"
      },
      "execution_count": 7,
      "outputs": [
        {
          "output_type": "execute_result",
          "data": {
            "text/plain": [
              "[-3, -1]"
            ]
          },
          "metadata": {},
          "execution_count": 7
        }
      ]
    },
    {
      "cell_type": "markdown",
      "source": [
        "In the notation `sp.solve(f, x)`, sympy finds the value of $x$ that makes $f(x) = 0$."
      ],
      "metadata": {
        "id": "clZikZtQrqYp"
      }
    },
    {
      "cell_type": "code",
      "source": [
        "x = smp.symbols('x')\n",
        "eq = x ** 3 + 1\n",
        "smp.solve(eq, x)"
      ],
      "metadata": {
        "colab": {
          "base_uri": "https://localhost:8080/"
        },
        "id": "HlG0Ph_qtO6Y",
        "outputId": "e7ef8981-7c3b-419b-8961-e7168bc5f10f"
      },
      "execution_count": 8,
      "outputs": [
        {
          "output_type": "execute_result",
          "data": {
            "text/plain": [
              "[-1, 1/2 - sqrt(3)*I/2, 1/2 + sqrt(3)*I/2]"
            ]
          },
          "metadata": {},
          "execution_count": 8
        }
      ]
    },
    {
      "cell_type": "markdown",
      "source": [
        "Specifying argument values for symbols"
      ],
      "metadata": {
        "id": "5wbjgh7ct0g1"
      }
    },
    {
      "cell_type": "code",
      "source": [
        "x = smp.symbols('x', real=True)\n",
        "eq = x ** 3 + 1\n",
        "smp.solve(eq, x)"
      ],
      "metadata": {
        "colab": {
          "base_uri": "https://localhost:8080/"
        },
        "id": "1zZXpR8prVMY",
        "outputId": "c5d03f62-bfe5-410e-e0b4-d860e1caf022"
      },
      "execution_count": 9,
      "outputs": [
        {
          "output_type": "execute_result",
          "data": {
            "text/plain": [
              "[-1]"
            ]
          },
          "metadata": {},
          "execution_count": 9
        }
      ]
    },
    {
      "cell_type": "code",
      "source": [
        "x = smp.symbols('x', real=True, positive=True)\n",
        "eq = x ** 2 - 1\n",
        "smp.solve(eq, x)"
      ],
      "metadata": {
        "colab": {
          "base_uri": "https://localhost:8080/"
        },
        "id": "T9BKzoD6s9Gl",
        "outputId": "251a443d-fa9f-4b7e-e4d0-047bf88583e0"
      },
      "execution_count": 10,
      "outputs": [
        {
          "output_type": "execute_result",
          "data": {
            "text/plain": [
              "[1]"
            ]
          },
          "metadata": {},
          "execution_count": 10
        }
      ]
    },
    {
      "cell_type": "code",
      "source": [
        "x, y, z = smp.symbols('x y z')\n",
        "f = x ** 2 + smp.sin(z) * y\n",
        "f"
      ],
      "metadata": {
        "colab": {
          "base_uri": "https://localhost:8080/",
          "height": 39
        },
        "id": "iwU3CWYRuJfT",
        "outputId": "645c91f4-8b8f-461a-9cfe-fa501a9bb101"
      },
      "execution_count": 11,
      "outputs": [
        {
          "output_type": "execute_result",
          "data": {
            "text/plain": [
              "x**2 + y*sin(z)"
            ],
            "text/latex": "$\\displaystyle x^{2} + y \\sin{\\left(z \\right)}$"
          },
          "metadata": {},
          "execution_count": 11
        }
      ]
    },
    {
      "cell_type": "markdown",
      "source": [
        "# Basic Operations"
      ],
      "metadata": {
        "id": "Pn9EZYiQu7-7"
      }
    },
    {
      "cell_type": "code",
      "source": [
        "from sympy import *\n",
        "x, y ,z = symbols('x y z')"
      ],
      "metadata": {
        "id": "ONB4I_nMuVXy"
      },
      "execution_count": 12,
      "outputs": []
    },
    {
      "cell_type": "markdown",
      "source": [
        "## Substitution"
      ],
      "metadata": {
        "id": "tjeJTE8ru-UJ"
      }
    },
    {
      "cell_type": "code",
      "source": [
        "expr = cos(x) + 1\n",
        "expr.subs(x, y)"
      ],
      "metadata": {
        "colab": {
          "base_uri": "https://localhost:8080/",
          "height": 79
        },
        "id": "rhp9hBuxvQ5U",
        "outputId": "a103d205-b90e-4b2c-e1a7-6edfabfa9bec"
      },
      "execution_count": 13,
      "outputs": [
        {
          "output_type": "execute_result",
          "data": {
            "text/plain": [
              "cos(y) + 1"
            ],
            "text/latex": "$\\displaystyle \\cos{\\left(y \\right)} + 1$"
          },
          "metadata": {},
          "execution_count": 13
        }
      ]
    },
    {
      "cell_type": "code",
      "source": [
        "expr.subs(x, 0)"
      ],
      "metadata": {
        "colab": {
          "base_uri": "https://localhost:8080/",
          "height": 57
        },
        "id": "GNqVdLjAvbrK",
        "outputId": "22aebdb9-d2c2-4749-b91b-f94625b74de6"
      },
      "execution_count": 14,
      "outputs": [
        {
          "output_type": "execute_result",
          "data": {
            "text/plain": [
              "2"
            ],
            "text/latex": "$\\displaystyle 2$"
          },
          "metadata": {},
          "execution_count": 14
        }
      ]
    },
    {
      "cell_type": "code",
      "source": [
        "expr = sin(2*x) + cos(2*x)\n",
        "expr.subs(sin(2*x), 2*sin(x)*cos(x))"
      ],
      "metadata": {
        "colab": {
          "base_uri": "https://localhost:8080/",
          "height": 80
        },
        "id": "cI8IqBSSvh5N",
        "outputId": "bb5b0606-ccbc-4e37-d121-36793b6fe058"
      },
      "execution_count": 15,
      "outputs": [
        {
          "output_type": "execute_result",
          "data": {
            "text/plain": [
              "2*sin(x)*cos(x) + cos(2*x)"
            ],
            "text/latex": "$\\displaystyle 2 \\sin{\\left(x \\right)} \\cos{\\left(x \\right)} + \\cos{\\left(2 x \\right)}$"
          },
          "metadata": {},
          "execution_count": 15
        }
      ]
    },
    {
      "cell_type": "code",
      "source": [
        "expr = x**3 + 4*x*y - z\n",
        "print(expr)\n",
        "expr.subs([(x, 2), (y, 4), (z, 0)])"
      ],
      "metadata": {
        "colab": {
          "base_uri": "https://localhost:8080/",
          "height": 75
        },
        "id": "VzxWKKl3vo5K",
        "outputId": "23cc4df2-fbf0-419e-ca73-754dfb9c4b49"
      },
      "execution_count": 16,
      "outputs": [
        {
          "output_type": "stream",
          "name": "stdout",
          "text": [
            "x**3 + 4*x*y - z\n"
          ]
        },
        {
          "output_type": "execute_result",
          "data": {
            "text/plain": [
              "40"
            ],
            "text/latex": "$\\displaystyle 40$"
          },
          "metadata": {},
          "execution_count": 16
        }
      ]
    },
    {
      "cell_type": "markdown",
      "source": [
        "## Converting Strings to SymPy Expressions\n",
        "\n",
        "`sympify` uses `eval`. Don’t use it on unsanitized input."
      ],
      "metadata": {
        "id": "kD_32Yx1wC5P"
      }
    },
    {
      "cell_type": "code",
      "source": [
        "str_expr = \"x**2 + 3*x - 1/2\"\n",
        "expr = sympify(str_expr)\n",
        "expr"
      ],
      "metadata": {
        "colab": {
          "base_uri": "https://localhost:8080/",
          "height": 114
        },
        "id": "tta1IcsvwCiE",
        "outputId": "bdacfd1f-e512-4434-dd91-05a7af468f88"
      },
      "execution_count": 17,
      "outputs": [
        {
          "output_type": "execute_result",
          "data": {
            "text/plain": [
              "x**2 + 3*x - 1/2"
            ],
            "text/latex": "$\\displaystyle x^{2} + 3 x - \\frac{1}{2}$"
          },
          "metadata": {},
          "execution_count": 17
        }
      ]
    },
    {
      "cell_type": "code",
      "source": [
        "expr.subs(x, 2)"
      ],
      "metadata": {
        "colab": {
          "base_uri": "https://localhost:8080/",
          "height": 71
        },
        "id": "k9iaq4UYvsAv",
        "outputId": "84476a08-eb94-42fd-b34b-55c17d8fd1c0"
      },
      "execution_count": 18,
      "outputs": [
        {
          "output_type": "execute_result",
          "data": {
            "text/plain": [
              "19/2"
            ],
            "text/latex": "$\\displaystyle \\frac{19}{2}$"
          },
          "metadata": {},
          "execution_count": 18
        }
      ]
    },
    {
      "cell_type": "markdown",
      "source": [
        "## evalf\n",
        "\n",
        "To evaluate a numerical expression into a floating point number, use `evalf`."
      ],
      "metadata": {
        "id": "Wi-f8ADvwWrq"
      }
    },
    {
      "cell_type": "code",
      "source": [
        "expr = sqrt(8)\n",
        "expr.evalf()"
      ],
      "metadata": {
        "colab": {
          "base_uri": "https://localhost:8080/",
          "height": 57
        },
        "id": "gDXMPGWMwUyL",
        "outputId": "690f7514-638e-4c64-d419-95d5eadeb0d2"
      },
      "execution_count": 19,
      "outputs": [
        {
          "output_type": "execute_result",
          "data": {
            "text/plain": [
              "2.82842712474619"
            ],
            "text/latex": "$\\displaystyle 2.82842712474619$"
          },
          "metadata": {},
          "execution_count": 19
        }
      ]
    },
    {
      "cell_type": "code",
      "source": [
        "pi.evalf(100)"
      ],
      "metadata": {
        "colab": {
          "base_uri": "https://localhost:8080/",
          "height": 57
        },
        "id": "ubN3ADEqwnte",
        "outputId": "07e6a57c-c48e-442f-85ce-f57a39d7945f"
      },
      "execution_count": 20,
      "outputs": [
        {
          "output_type": "execute_result",
          "data": {
            "text/plain": [
              "3.141592653589793238462643383279502884197169399375105820974944592307816406286208998628034825342117068"
            ],
            "text/latex": "$\\displaystyle 3.141592653589793238462643383279502884197169399375105820974944592307816406286208998628034825342117068$"
          },
          "metadata": {},
          "execution_count": 20
        }
      ]
    },
    {
      "cell_type": "code",
      "source": [
        "one = cos(x)**2 + sin(x)**2\n",
        "(one - 1).evalf(subs={x: 2})\n",
        "# (one - 1).evalf()\n",
        "# (one - 1).evalf(chop=True)"
      ],
      "metadata": {
        "colab": {
          "base_uri": "https://localhost:8080/",
          "height": 78
        },
        "id": "XKqLxrx6wtCp",
        "outputId": "578f1e09-f4f5-49a6-e53e-25d84e43f410"
      },
      "execution_count": 21,
      "outputs": [
        {
          "output_type": "execute_result",
          "data": {
            "text/plain": [
              "-0.e-124"
            ],
            "text/latex": "$\\displaystyle -9.0 \\cdot 10^{-125}$"
          },
          "metadata": {},
          "execution_count": 21
        }
      ]
    },
    {
      "cell_type": "code",
      "source": [
        "(one - 1).evalf(subs={x: 2}, chop=True) #round off smaller errors"
      ],
      "metadata": {
        "colab": {
          "base_uri": "https://localhost:8080/",
          "height": 57
        },
        "id": "Gjgnsrkjw0V9",
        "outputId": "79357187-0bee-49f6-cb27-993deb4ae615"
      },
      "execution_count": 22,
      "outputs": [
        {
          "output_type": "execute_result",
          "data": {
            "text/plain": [
              "0"
            ],
            "text/latex": "$\\displaystyle 0$"
          },
          "metadata": {},
          "execution_count": 22
        }
      ]
    },
    {
      "cell_type": "markdown",
      "source": [
        "## lambdify"
      ],
      "metadata": {
        "id": "yeB2jTvPxyEr"
      }
    },
    {
      "cell_type": "code",
      "source": [
        "expr =  sinh(x ** 2 / y) + pi\n",
        "expr"
      ],
      "metadata": {
        "colab": {
          "base_uri": "https://localhost:8080/",
          "height": 100
        },
        "id": "AxcKSeJuxYUl",
        "outputId": "fdcae0c5-8bc3-468b-b773-49bf12419faf"
      },
      "execution_count": 23,
      "outputs": [
        {
          "output_type": "execute_result",
          "data": {
            "text/plain": [
              "sinh(x**2/y) + pi"
            ],
            "text/latex": "$\\displaystyle \\sinh{\\left(\\frac{x^{2}}{y} \\right)} + \\pi$"
          },
          "metadata": {},
          "execution_count": 23
        }
      ]
    },
    {
      "cell_type": "code",
      "source": [
        "import numpy as np\n",
        "import matplotlib.pyplot as plt\n",
        "\n",
        "expr_f = lambdify([x, y], expr, \"numpy\")\n",
        "#expr_f(1, 3)\n",
        "x_vals = np.linspace(0, 1, 100)\n",
        "plt.plot(x_vals, expr_f(x_vals, 2))"
      ],
      "metadata": {
        "colab": {
          "base_uri": "https://localhost:8080/",
          "height": 106
        },
        "id": "M48n3rlbyfNc",
        "outputId": "a4428a84-00a7-4f53-fe1c-46314968e2e7"
      },
      "execution_count": 24,
      "outputs": [
        {
          "output_type": "execute_result",
          "data": {
            "text/plain": [
              "[<matplotlib.lines.Line2D at 0x7efd3cc6cdc0>]"
            ]
          },
          "metadata": {},
          "execution_count": 24
        },
        {
          "output_type": "display_data",
          "data": {
            "text/plain": [
              "<Figure size 432x288 with 1 Axes>"
            ],
            "image/png": "[encoded data removed]"
          },
          "metadata": {
            "needs_background": "light"
          }
        }
      ]
    },
    {
      "cell_type": "markdown",
      "source": [
        "# .\n",
        "https://docs.sympy.org/latest/tutorials/intro-tutorial/printing.html"
      ],
      "metadata": {
        "id": "l5-6c_se0jYu"
      }
    },
    {
      "cell_type": "markdown",
      "source": [
        "# Simplification"
      ],
      "metadata": {
        "id": "fPB-8mUY0oyw"
      }
    },
    {
      "cell_type": "code",
      "source": [
        "from sympy import *\n",
        "x, y, z = symbols('x y z')\n",
        "init_printing(use_unicode=True)"
      ],
      "metadata": {
        "id": "XFkhKgkczRy_"
      },
      "execution_count": 25,
      "outputs": []
    },
    {
      "cell_type": "markdown",
      "source": [
        "## simplify"
      ],
      "metadata": {
        "id": "85qodME-04NM"
      }
    },
    {
      "cell_type": "code",
      "source": [
        "gamma(x)/ gamma(x - 2)"
      ],
      "metadata": {
        "colab": {
          "base_uri": "https://localhost:8080/",
          "height": 57
        },
        "id": "Ks2uqgXZ03e_",
        "outputId": "0f150f52-22e0-4493-ea1e-105f82b78359"
      },
      "execution_count": 26,
      "outputs": [
        {
          "output_type": "execute_result",
          "data": {
            "text/plain": [
              "  Γ(x)  \n",
              "────────\n",
              "Γ(x - 2)"
            ],
            "image/png": "[encoded data removed]",
            "text/latex": "$\\displaystyle \\frac{\\Gamma\\left(x\\right)}{\\Gamma\\left(x - 2\\right)}$"
          },
          "metadata": {},
          "execution_count": 26
        }
      ]
    },
    {
      "cell_type": "code",
      "source": [
        "simplify(gamma(x)/ gamma(x - 2))"
      ],
      "metadata": {
        "colab": {
          "base_uri": "https://localhost:8080/",
          "height": 39
        },
        "id": "eoHmfqq01JAa",
        "outputId": "970158ce-2d61-4d33-ffc6-71306d66892b"
      },
      "execution_count": 27,
      "outputs": [
        {
          "output_type": "execute_result",
          "data": {
            "text/plain": [
              "(x - 2)⋅(x - 1)"
            ],
            "image/png": "[encoded data removed]",
            "text/latex": "$\\displaystyle \\left(x - 2\\right) \\left(x - 1\\right)$"
          },
          "metadata": {},
          "execution_count": 27
        }
      ]
    },
    {
      "cell_type": "code",
      "source": [
        "simplify(sin(x) ** 2 + cos(x) ** 2)"
      ],
      "metadata": {
        "colab": {
          "base_uri": "https://localhost:8080/",
          "height": 37
        },
        "id": "bmQ5ZG701REV",
        "outputId": "86e1b4c6-2297-41cd-8ff9-50bf0dbdf729"
      },
      "execution_count": 28,
      "outputs": [
        {
          "output_type": "execute_result",
          "data": {
            "text/plain": [
              "1"
            ],
            "image/png": "[encoded data removed]",
            "text/latex": "$\\displaystyle 1$"
          },
          "metadata": {},
          "execution_count": 28
        }
      ]
    },
    {
      "cell_type": "markdown",
      "source": [
        "## expand"
      ],
      "metadata": {
        "id": "RB5ZsFlR1yFZ"
      }
    },
    {
      "cell_type": "code",
      "source": [
        "expand((x + 2)*(x - 3))"
      ],
      "metadata": {
        "colab": {
          "base_uri": "https://localhost:8080/",
          "height": 39
        },
        "id": "p4jLOVDz1jfF",
        "outputId": "36d927ec-8495-460f-8247-12b8e18b97fc"
      },
      "execution_count": 29,
      "outputs": [
        {
          "output_type": "execute_result",
          "data": {
            "text/plain": [
              " 2        \n",
              "x  - x - 6"
            ],
            "image/png": "[encoded data removed]",
            "text/latex": "$\\displaystyle x^{2} - x - 6$"
          },
          "metadata": {},
          "execution_count": 29
        }
      ]
    },
    {
      "cell_type": "markdown",
      "source": [
        "## factor"
      ],
      "metadata": {
        "id": "kGNYNqie17cb"
      }
    },
    {
      "cell_type": "code",
      "source": [
        "factor(x**2*z + 4*x*y*z + 4*y**2*z)"
      ],
      "metadata": {
        "colab": {
          "base_uri": "https://localhost:8080/",
          "height": 39
        },
        "id": "ZrNQYjfA125r",
        "outputId": "874faa95-3ef3-438c-8955-1b92c9e15f01"
      },
      "execution_count": 30,
      "outputs": [
        {
          "output_type": "execute_result",
          "data": {
            "text/plain": [
              "           2\n",
              "z⋅(x + 2⋅y) "
            ],
            "image/png": "[encoded data removed]",
            "text/latex": "$\\displaystyle z \\left(x + 2 y\\right)^{2}$"
          },
          "metadata": {},
          "execution_count": 30
        }
      ]
    },
    {
      "cell_type": "code",
      "source": [
        "factor_list(x**2*z + 4*x*y*z + 4*y**2*z)"
      ],
      "metadata": {
        "colab": {
          "base_uri": "https://localhost:8080/",
          "height": 39
        },
        "id": "9mnYh2pH19lH",
        "outputId": "5c177f8d-73fb-4f95-f49c-c489076b1f2b"
      },
      "execution_count": 31,
      "outputs": [
        {
          "output_type": "execute_result",
          "data": {
            "text/plain": [
              "(1, [(z, 1), (x + 2⋅y, 2)])"
            ],
            "image/png": "[encoded data removed]",
            "text/latex": "$\\displaystyle \\left( 1, \\  \\left[ \\left( z, \\  1\\right), \\  \\left( x + 2 y, \\  2\\right)\\right]\\right)$"
          },
          "metadata": {},
          "execution_count": 31
        }
      ]
    },
    {
      "cell_type": "markdown",
      "source": [
        "## collect"
      ],
      "metadata": {
        "id": "UIHGEvSP2Z5O"
      }
    },
    {
      "cell_type": "code",
      "source": [
        "expr = x*y + x - 3 + 2*x**2 - z*x**2 + x**3\n",
        "collect(expr, x)"
      ],
      "metadata": {
        "colab": {
          "base_uri": "https://localhost:8080/",
          "height": 39
        },
        "id": "6ePA5PEa1-yF",
        "outputId": "a72550a2-9e97-48b7-beeb-55215f8626ef"
      },
      "execution_count": 32,
      "outputs": [
        {
          "output_type": "execute_result",
          "data": {
            "text/plain": [
              " 3    2                        \n",
              "x  + x ⋅(2 - z) + x⋅(y + 1) - 3"
            ],
            "image/png": "[encoded data removed]",
            "text/latex": "$\\displaystyle x^{3} + x^{2} \\left(2 - z\\right) + x \\left(y + 1\\right) - 3$"
          },
          "metadata": {},
          "execution_count": 32
        }
      ]
    },
    {
      "cell_type": "markdown",
      "source": [
        "## cancel"
      ],
      "metadata": {
        "id": "Uu3PtxZ626I6"
      }
    },
    {
      "cell_type": "code",
      "source": [
        "expr = 1/x + (3*x/2 - 2)/(x - 4)\n",
        "expr"
      ],
      "metadata": {
        "colab": {
          "base_uri": "https://localhost:8080/",
          "height": 57
        },
        "id": "flzG_DCX27YR",
        "outputId": "c875e1dd-a0dc-4981-da7c-cf388d1999af"
      },
      "execution_count": 33,
      "outputs": [
        {
          "output_type": "execute_result",
          "data": {
            "text/plain": [
              "3⋅x        \n",
              "─── - 2    \n",
              " 2        1\n",
              "─────── + ─\n",
              " x - 4    x"
            ],
            "image/png": "[encoded data removed]",
            "text/latex": "$\\displaystyle \\frac{\\frac{3 x}{2} - 2}{x - 4} + \\frac{1}{x}$"
          },
          "metadata": {},
          "execution_count": 33
        }
      ]
    },
    {
      "cell_type": "code",
      "source": [
        "cancel(expr)"
      ],
      "metadata": {
        "colab": {
          "base_uri": "https://localhost:8080/",
          "height": 55
        },
        "id": "2YckTH3E2-Da",
        "outputId": "4ba33820-96fa-4830-e240-875a301c269b"
      },
      "execution_count": 34,
      "outputs": [
        {
          "output_type": "execute_result",
          "data": {
            "text/plain": [
              "   2          \n",
              "3⋅x  - 2⋅x - 8\n",
              "──────────────\n",
              "     2        \n",
              "  2⋅x  - 8⋅x  "
            ],
            "image/png": "[encoded data removed]",
            "text/latex": "$\\displaystyle \\frac{3 x^{2} - 2 x - 8}{2 x^{2} - 8 x}$"
          },
          "metadata": {},
          "execution_count": 34
        }
      ]
    },
    {
      "cell_type": "markdown",
      "source": [
        "## trigsimp & expand_trig"
      ],
      "metadata": {
        "id": "f5oDOLZH3M8n"
      }
    },
    {
      "cell_type": "code",
      "source": [
        "sin(x)**4 - 2*cos(x)**2*sin(x)**2 + cos(x)**4"
      ],
      "metadata": {
        "colab": {
          "base_uri": "https://localhost:8080/",
          "height": 39
        },
        "id": "jQ8tO5303VOU",
        "outputId": "1c345c08-5eea-4b51-f0d6-10a21b8d3f35"
      },
      "execution_count": 35,
      "outputs": [
        {
          "output_type": "execute_result",
          "data": {
            "text/plain": [
              "   4           2       2         4   \n",
              "sin (x) - 2⋅sin (x)⋅cos (x) + cos (x)"
            ],
            "image/png": "[encoded data removed]",
            "text/latex": "$\\displaystyle \\sin^{4}{\\left(x \\right)} - 2 \\sin^{2}{\\left(x \\right)} \\cos^{2}{\\left(x \\right)} + \\cos^{4}{\\left(x \\right)}$"
          },
          "metadata": {},
          "execution_count": 35
        }
      ]
    },
    {
      "cell_type": "code",
      "source": [
        "ts = trigsimp(sin(x)**4 - 2*cos(x)**2*sin(x)**2 + cos(x)**4)\n",
        "ts"
      ],
      "metadata": {
        "colab": {
          "base_uri": "https://localhost:8080/",
          "height": 53
        },
        "id": "_s5vpxyX3Cux",
        "outputId": "5327597d-f8db-4e56-8f42-a9b55b1d8ce3"
      },
      "execution_count": 36,
      "outputs": [
        {
          "output_type": "execute_result",
          "data": {
            "text/plain": [
              "cos(4⋅x)   1\n",
              "──────── + ─\n",
              "   2       2"
            ],
            "image/png": "[encoded data removed]",
            "text/latex": "$\\displaystyle \\frac{\\cos{\\left(4 x \\right)}}{2} + \\frac{1}{2}$"
          },
          "metadata": {},
          "execution_count": 36
        }
      ]
    },
    {
      "cell_type": "code",
      "source": [
        "expand_trig(ts)"
      ],
      "metadata": {
        "colab": {
          "base_uri": "https://localhost:8080/",
          "height": 39
        },
        "id": "j5l5lZZg3Stz",
        "outputId": "84014e58-813c-45ce-9e62-878b7403cc9b"
      },
      "execution_count": 37,
      "outputs": [
        {
          "output_type": "execute_result",
          "data": {
            "text/plain": [
              "     4           2       \n",
              "4⋅cos (x) - 4⋅cos (x) + 1"
            ],
            "image/png": "[encoded data removed]",
            "text/latex": "$\\displaystyle 4 \\cos^{4}{\\left(x \\right)} - 4 \\cos^{2}{\\left(x \\right)} + 1$"
          },
          "metadata": {},
          "execution_count": 37
        }
      ]
    },
    {
      "cell_type": "code",
      "source": [],
      "metadata": {
        "id": "M-LW1X133na_"
      },
      "execution_count": 37,
      "outputs": []
    }
  ]
}